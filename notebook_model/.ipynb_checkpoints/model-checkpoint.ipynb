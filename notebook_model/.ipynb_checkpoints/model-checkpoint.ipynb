{
 "cells": [
  {
   "cell_type": "markdown",
   "metadata": {},
   "source": [
    "# Model BCI Challenge"
   ]
  },
  {
   "cell_type": "markdown",
   "metadata": {},
   "source": [
    "Before starting, make sure your environment is activated:"
   ]
  },
  {
   "cell_type": "code",
   "execution_count": 1,
   "metadata": {
    "ExecuteTime": {
     "end_time": "2021-12-19T05:03:14.152299Z",
     "start_time": "2021-12-19T05:03:11.084622Z"
    }
   },
   "outputs": [
    {
     "name": "stdout",
     "output_type": "stream",
     "text": [
      "# conda environments:\n",
      "#\n",
      "base                     C:\\Users\\Erick\\anaconda3\n",
      "bci-env               *  C:\\Users\\Erick\\anaconda3\\envs\\bci-env\n",
      "\n"
     ]
    }
   ],
   "source": [
    "!conda env list"
   ]
  },
  {
   "cell_type": "markdown",
   "metadata": {},
   "source": [
    "## Modules"
   ]
  },
  {
   "cell_type": "code",
   "execution_count": 2,
   "metadata": {
    "ExecuteTime": {
     "end_time": "2021-12-18T20:47:33.234880Z",
     "start_time": "2021-12-18T20:47:29.436135Z"
    }
   },
   "outputs": [],
   "source": [
    "# Utilities\n",
    "import pandas as pd\n",
    "import numpy as np\n",
    "import multiprocessing as mp\n",
    "from pickle import dump, load\n",
    "\n",
    "# To plot charts\n",
    "import seaborn as sns\n",
    "import matplotlib.pyplot as plt\n",
    "\n",
    "# Preprocessing\n",
    "from sklearn.model_selection import train_test_split\n",
    "from sklearn.preprocessing import OneHotEncoder, OrdinalEncoder, StandardScaler\n",
    "from sklearn.ensemble import RandomForestRegressor\n",
    "\n",
    "## To handle missing values\n",
    "from sklearn.experimental import enable_iterative_imputer\n",
    "from sklearn.impute import IterativeImputer\n",
    "from sklearn.tree import DecisionTreeRegressor\n",
    "\n",
    "# For modeling\n",
    "from sklearn.linear_model import LinearRegression\n",
    "from sklearn.metrics import mean_absolute_error"
   ]
  },
  {
   "cell_type": "code",
   "execution_count": 3,
   "metadata": {
    "ExecuteTime": {
     "end_time": "2021-12-18T20:47:33.254882Z",
     "start_time": "2021-12-18T20:47:33.236880Z"
    }
   },
   "outputs": [],
   "source": [
    "import sys\n",
    "sys.path.append('../src/')\n",
    "\n",
    "import utils"
   ]
  },
  {
   "cell_type": "markdown",
   "metadata": {},
   "source": [
    "## Importing data"
   ]
  },
  {
   "cell_type": "code",
   "execution_count": 19,
   "metadata": {
    "ExecuteTime": {
     "end_time": "2021-12-18T20:54:54.416651Z",
     "start_time": "2021-12-18T20:54:50.233958Z"
    }
   },
   "outputs": [],
   "source": [
    "train = pd.read_csv('../data/input/train_data.csv')"
   ]
  },
  {
   "cell_type": "code",
   "execution_count": 20,
   "metadata": {
    "ExecuteTime": {
     "end_time": "2021-12-18T20:54:54.487649Z",
     "start_time": "2021-12-18T20:54:54.419614Z"
    }
   },
   "outputs": [
    {
     "data": {
      "text/html": [
       "<div>\n",
       "<style scoped>\n",
       "    .dataframe tbody tr th:only-of-type {\n",
       "        vertical-align: middle;\n",
       "    }\n",
       "\n",
       "    .dataframe tbody tr th {\n",
       "        vertical-align: top;\n",
       "    }\n",
       "\n",
       "    .dataframe thead th {\n",
       "        text-align: right;\n",
       "    }\n",
       "</style>\n",
       "<table border=\"1\" class=\"dataframe\">\n",
       "  <thead>\n",
       "    <tr style=\"text-align: right;\">\n",
       "      <th></th>\n",
       "      <th>id</th>\n",
       "      <th>mes</th>\n",
       "      <th>tipo_ban</th>\n",
       "      <th>tipo_seg</th>\n",
       "      <th>categoria</th>\n",
       "      <th>tipo_com</th>\n",
       "      <th>tipo_cat</th>\n",
       "      <th>tipo_cli</th>\n",
       "      <th>VAR1_sum</th>\n",
       "      <th>VAR1_prom</th>\n",
       "      <th>...</th>\n",
       "      <th>VAR27_sum</th>\n",
       "      <th>VAR27_prom</th>\n",
       "      <th>VAR27_trx</th>\n",
       "      <th>VAR28_sum</th>\n",
       "      <th>VAR28_prom</th>\n",
       "      <th>VAR28_trx</th>\n",
       "      <th>VAR29_prom</th>\n",
       "      <th>VAR29_ratio</th>\n",
       "      <th>VAR30_sum</th>\n",
       "      <th>target_mes</th>\n",
       "    </tr>\n",
       "  </thead>\n",
       "  <tbody>\n",
       "    <tr>\n",
       "      <th>0</th>\n",
       "      <td>abdd0c8d3be5</td>\n",
       "      <td>202002</td>\n",
       "      <td>BAN1</td>\n",
       "      <td>NO PROD3</td>\n",
       "      <td>V5</td>\n",
       "      <td>COM4</td>\n",
       "      <td>RUBRO5</td>\n",
       "      <td>CLI1</td>\n",
       "      <td>NaN</td>\n",
       "      <td>NaN</td>\n",
       "      <td>...</td>\n",
       "      <td>NaN</td>\n",
       "      <td>NaN</td>\n",
       "      <td>NaN</td>\n",
       "      <td>NaN</td>\n",
       "      <td>NaN</td>\n",
       "      <td>NaN</td>\n",
       "      <td>NaN</td>\n",
       "      <td>NaN</td>\n",
       "      <td>NaN</td>\n",
       "      <td>0.00</td>\n",
       "    </tr>\n",
       "    <tr>\n",
       "      <th>1</th>\n",
       "      <td>5b290c34ff68</td>\n",
       "      <td>202006</td>\n",
       "      <td>BAN1</td>\n",
       "      <td>PROD1</td>\n",
       "      <td>V2</td>\n",
       "      <td>COM2</td>\n",
       "      <td>RUBRO5</td>\n",
       "      <td>CLI1</td>\n",
       "      <td>NaN</td>\n",
       "      <td>NaN</td>\n",
       "      <td>...</td>\n",
       "      <td>NaN</td>\n",
       "      <td>NaN</td>\n",
       "      <td>NaN</td>\n",
       "      <td>NaN</td>\n",
       "      <td>NaN</td>\n",
       "      <td>NaN</td>\n",
       "      <td>17081.5</td>\n",
       "      <td>0.034</td>\n",
       "      <td>NaN</td>\n",
       "      <td>6.19</td>\n",
       "    </tr>\n",
       "    <tr>\n",
       "      <th>2</th>\n",
       "      <td>54b8678ab09b</td>\n",
       "      <td>201901</td>\n",
       "      <td>BAN1</td>\n",
       "      <td>PROD1/PROD2</td>\n",
       "      <td>V4</td>\n",
       "      <td>COM3</td>\n",
       "      <td>RUBRO3</td>\n",
       "      <td>CLI1</td>\n",
       "      <td>NaN</td>\n",
       "      <td>NaN</td>\n",
       "      <td>...</td>\n",
       "      <td>NaN</td>\n",
       "      <td>NaN</td>\n",
       "      <td>NaN</td>\n",
       "      <td>NaN</td>\n",
       "      <td>NaN</td>\n",
       "      <td>NaN</td>\n",
       "      <td>706250.0</td>\n",
       "      <td>0.706</td>\n",
       "      <td>NaN</td>\n",
       "      <td>22.78</td>\n",
       "    </tr>\n",
       "    <tr>\n",
       "      <th>3</th>\n",
       "      <td>77e1b37ea594</td>\n",
       "      <td>202004</td>\n",
       "      <td>BAN1</td>\n",
       "      <td>NO PROD3</td>\n",
       "      <td>V6</td>\n",
       "      <td>COM4</td>\n",
       "      <td>RUBRO2</td>\n",
       "      <td>CLI1</td>\n",
       "      <td>NaN</td>\n",
       "      <td>NaN</td>\n",
       "      <td>...</td>\n",
       "      <td>NaN</td>\n",
       "      <td>NaN</td>\n",
       "      <td>NaN</td>\n",
       "      <td>NaN</td>\n",
       "      <td>NaN</td>\n",
       "      <td>NaN</td>\n",
       "      <td>7632694.0</td>\n",
       "      <td>0.954</td>\n",
       "      <td>NaN</td>\n",
       "      <td>55.06</td>\n",
       "    </tr>\n",
       "    <tr>\n",
       "      <th>4</th>\n",
       "      <td>7b6c7a3b57a9</td>\n",
       "      <td>202101</td>\n",
       "      <td>BAN1</td>\n",
       "      <td>PROD1</td>\n",
       "      <td>V2</td>\n",
       "      <td>COM2</td>\n",
       "      <td>RUBRO4</td>\n",
       "      <td>CLI2</td>\n",
       "      <td>NaN</td>\n",
       "      <td>NaN</td>\n",
       "      <td>...</td>\n",
       "      <td>NaN</td>\n",
       "      <td>NaN</td>\n",
       "      <td>NaN</td>\n",
       "      <td>NaN</td>\n",
       "      <td>NaN</td>\n",
       "      <td>NaN</td>\n",
       "      <td>376664.0</td>\n",
       "      <td>0.443</td>\n",
       "      <td>70.0</td>\n",
       "      <td>0.19</td>\n",
       "    </tr>\n",
       "  </tbody>\n",
       "</table>\n",
       "<p>5 rows × 70 columns</p>\n",
       "</div>"
      ],
      "text/plain": [
       "             id     mes tipo_ban     tipo_seg categoria tipo_com tipo_cat  \\\n",
       "0  abdd0c8d3be5  202002     BAN1     NO PROD3        V5     COM4   RUBRO5   \n",
       "1  5b290c34ff68  202006     BAN1        PROD1        V2     COM2   RUBRO5   \n",
       "2  54b8678ab09b  201901     BAN1  PROD1/PROD2        V4     COM3   RUBRO3   \n",
       "3  77e1b37ea594  202004     BAN1     NO PROD3        V6     COM4   RUBRO2   \n",
       "4  7b6c7a3b57a9  202101     BAN1        PROD1        V2     COM2   RUBRO4   \n",
       "\n",
       "  tipo_cli  VAR1_sum  VAR1_prom  ...  VAR27_sum  VAR27_prom  VAR27_trx  \\\n",
       "0     CLI1       NaN        NaN  ...        NaN         NaN        NaN   \n",
       "1     CLI1       NaN        NaN  ...        NaN         NaN        NaN   \n",
       "2     CLI1       NaN        NaN  ...        NaN         NaN        NaN   \n",
       "3     CLI1       NaN        NaN  ...        NaN         NaN        NaN   \n",
       "4     CLI2       NaN        NaN  ...        NaN         NaN        NaN   \n",
       "\n",
       "   VAR28_sum  VAR28_prom  VAR28_trx  VAR29_prom  VAR29_ratio  VAR30_sum  \\\n",
       "0        NaN         NaN        NaN         NaN          NaN        NaN   \n",
       "1        NaN         NaN        NaN     17081.5        0.034        NaN   \n",
       "2        NaN         NaN        NaN    706250.0        0.706        NaN   \n",
       "3        NaN         NaN        NaN   7632694.0        0.954        NaN   \n",
       "4        NaN         NaN        NaN    376664.0        0.443       70.0   \n",
       "\n",
       "   target_mes  \n",
       "0        0.00  \n",
       "1        6.19  \n",
       "2       22.78  \n",
       "3       55.06  \n",
       "4        0.19  \n",
       "\n",
       "[5 rows x 70 columns]"
      ]
     },
     "execution_count": 20,
     "metadata": {},
     "output_type": "execute_result"
    }
   ],
   "source": [
    "train.head()"
   ]
  },
  {
   "cell_type": "markdown",
   "metadata": {},
   "source": [
    "## Settings"
   ]
  },
  {
   "cell_type": "code",
   "execution_count": 21,
   "metadata": {
    "ExecuteTime": {
     "end_time": "2021-12-18T20:54:55.663196Z",
     "start_time": "2021-12-18T20:54:55.659197Z"
    }
   },
   "outputs": [],
   "source": [
    "SEED = 42\n",
    "PATH_OBJECTS_PREPROCESSING = '../preprocessing_objects/'"
   ]
  },
  {
   "cell_type": "markdown",
   "metadata": {},
   "source": [
    "## Train-Test split"
   ]
  },
  {
   "cell_type": "code",
   "execution_count": 22,
   "metadata": {
    "ExecuteTime": {
     "end_time": "2021-12-18T20:54:57.532657Z",
     "start_time": "2021-12-18T20:54:57.234617Z"
    }
   },
   "outputs": [],
   "source": [
    "X = train.drop('target_mes', axis=1)\n",
    "y = train.target_mes"
   ]
  },
  {
   "cell_type": "code",
   "execution_count": 23,
   "metadata": {
    "ExecuteTime": {
     "end_time": "2021-12-18T20:54:58.812588Z",
     "start_time": "2021-12-18T20:54:57.861304Z"
    }
   },
   "outputs": [],
   "source": [
    "X_train, X_test, y_train, y_test = train_test_split(X, y, random_state=SEED)"
   ]
  },
  {
   "cell_type": "markdown",
   "metadata": {},
   "source": [
    "## Preprocessing"
   ]
  },
  {
   "cell_type": "markdown",
   "metadata": {},
   "source": [
    "Refer to EDA notebook for a better understanding about some actions carried out in this stage."
   ]
  },
  {
   "cell_type": "markdown",
   "metadata": {},
   "source": [
    "### Formating dates"
   ]
  },
  {
   "cell_type": "markdown",
   "metadata": {},
   "source": [
    "Applying to train dataset:"
   ]
  },
  {
   "cell_type": "code",
   "execution_count": 267,
   "metadata": {
    "ExecuteTime": {
     "end_time": "2021-12-18T20:36:23.027214Z",
     "start_time": "2021-12-18T20:36:21.674115Z"
    }
   },
   "outputs": [
    {
     "name": "stdout",
     "output_type": "stream",
     "text": [
      "year     int16\n",
      "month    int16\n",
      "dtype: object\n"
     ]
    },
    {
     "data": {
      "text/html": [
       "<div>\n",
       "<style scoped>\n",
       "    .dataframe tbody tr th:only-of-type {\n",
       "        vertical-align: middle;\n",
       "    }\n",
       "\n",
       "    .dataframe tbody tr th {\n",
       "        vertical-align: top;\n",
       "    }\n",
       "\n",
       "    .dataframe thead th {\n",
       "        text-align: right;\n",
       "    }\n",
       "</style>\n",
       "<table border=\"1\" class=\"dataframe\">\n",
       "  <thead>\n",
       "    <tr style=\"text-align: right;\">\n",
       "      <th></th>\n",
       "      <th>year</th>\n",
       "      <th>month</th>\n",
       "    </tr>\n",
       "  </thead>\n",
       "  <tbody>\n",
       "    <tr>\n",
       "      <th>68246</th>\n",
       "      <td>2020</td>\n",
       "      <td>9</td>\n",
       "    </tr>\n",
       "    <tr>\n",
       "      <th>453369</th>\n",
       "      <td>2020</td>\n",
       "      <td>6</td>\n",
       "    </tr>\n",
       "    <tr>\n",
       "      <th>226022</th>\n",
       "      <td>2020</td>\n",
       "      <td>12</td>\n",
       "    </tr>\n",
       "    <tr>\n",
       "      <th>444749</th>\n",
       "      <td>2019</td>\n",
       "      <td>7</td>\n",
       "    </tr>\n",
       "    <tr>\n",
       "      <th>491156</th>\n",
       "      <td>2020</td>\n",
       "      <td>12</td>\n",
       "    </tr>\n",
       "  </tbody>\n",
       "</table>\n",
       "</div>"
      ],
      "text/plain": [
       "        year  month\n",
       "68246   2020      9\n",
       "453369  2020      6\n",
       "226022  2020     12\n",
       "444749  2019      7\n",
       "491156  2020     12"
      ]
     },
     "execution_count": 267,
     "metadata": {},
     "output_type": "execute_result"
    }
   ],
   "source": [
    "X_train = utils.preprocess_month(X_train)\n",
    "\n",
    "print(X_train[['year', 'month']].dtypes)\n",
    "X_train[['year', 'month']].head()"
   ]
  },
  {
   "cell_type": "markdown",
   "metadata": {},
   "source": [
    "### Removing features with missing values"
   ]
  },
  {
   "cell_type": "markdown",
   "metadata": {},
   "source": [
    "To drop features with missing values before encoding and other processing functions helps reducing dimensionality and this latter leads to memory usage reduction, even before training the model. So, it is not necessary to keep features while dataset is processed so that, finally, these are dropped later."
   ]
  },
  {
   "cell_type": "code",
   "execution_count": 268,
   "metadata": {
    "ExecuteTime": {
     "end_time": "2021-12-18T20:36:23.310219Z",
     "start_time": "2021-12-18T20:36:23.030216Z"
    }
   },
   "outputs": [
    {
     "name": "stdout",
     "output_type": "stream",
     "text": [
      "Index(['VAR23_sum', 'VAR23_trx', 'VAR23_prom', 'VAR25_prom', 'VAR25_sum',\n",
      "       'VAR25_trx', 'VAR4_trx', 'VAR4_prom', 'VAR4_sum', 'VAR3_trx',\n",
      "       'VAR3_sum', 'VAR3_prom', 'VAR29_prom', 'VAR29_ratio', 'VAR1_sum',\n",
      "       'VAR1_prom', 'VAR1_trx', 'VAR24_trx', 'VAR24_prom', 'VAR24_sum',\n",
      "       'VAR17_sum', 'VAR2_trx', 'VAR2_prom', 'VAR2_sum', 'VAR28_trx',\n",
      "       'VAR28_prom', 'VAR28_sum', 'VAR7_prom', 'VAR7_sum', 'VAR7_trx',\n",
      "       'VAR16_sum', 'VAR30_sum', 'VAR8_sum', 'VAR8_prom', 'VAR8_trx',\n",
      "       'VAR27_trx', 'VAR27_sum', 'VAR27_prom', 'VAR26_prom', 'VAR26_sum',\n",
      "       'VAR26_trx', 'VAR6_trx', 'VAR6_prom', 'VAR6_sum', 'VAR10_sum',\n",
      "       'VAR9_sum', 'VAR9_prom', 'VAR9_trx'],\n",
      "      dtype='object')\n",
      "Length 48\n"
     ]
    }
   ],
   "source": [
    "columns_most_nan_values = utils.get_columns_with_nan_values(X_train)\n",
    "\n",
    "print(columns_most_nan_values)\n",
    "print('Length', len(columns_most_nan_values))"
   ]
  },
  {
   "cell_type": "markdown",
   "metadata": {},
   "source": [
    "Removing columns with most of missing value and \"id\" column:"
   ]
  },
  {
   "cell_type": "code",
   "execution_count": 269,
   "metadata": {
    "ExecuteTime": {
     "end_time": "2021-12-18T20:36:23.496218Z",
     "start_time": "2021-12-18T20:36:23.313214Z"
    }
   },
   "outputs": [],
   "source": [
    "X_train.drop(list(columns_most_nan_values)+['id'], axis=1, inplace=True)"
   ]
  },
  {
   "cell_type": "code",
   "execution_count": 270,
   "metadata": {
    "ExecuteTime": {
     "end_time": "2021-12-18T20:36:23.505219Z",
     "start_time": "2021-12-18T20:36:23.499228Z"
    }
   },
   "outputs": [
    {
     "name": "stdout",
     "output_type": "stream",
     "text": [
      "(500768, 21)\n"
     ]
    }
   ],
   "source": [
    "print(X_train.shape)"
   ]
  },
  {
   "cell_type": "markdown",
   "metadata": {},
   "source": [
    "### Filtering categories"
   ]
  },
  {
   "cell_type": "markdown",
   "metadata": {},
   "source": [
    "With the purpose of creating a robust model, it will be necessary filtering some categorical features with the less frequent categories."
   ]
  },
  {
   "cell_type": "code",
   "execution_count": 271,
   "metadata": {
    "ExecuteTime": {
     "end_time": "2021-12-18T20:36:24.638516Z",
     "start_time": "2021-12-18T20:36:23.697521Z"
    }
   },
   "outputs": [],
   "source": [
    "for column in X_train.select_dtypes('object').columns:\n",
    "    X_train = X_train[~X_train[column].isin(utils.less_frequent_categories(X_train[column], n=10000))]"
   ]
  },
  {
   "cell_type": "code",
   "execution_count": 272,
   "metadata": {
    "ExecuteTime": {
     "end_time": "2021-12-18T20:36:24.729517Z",
     "start_time": "2021-12-18T20:36:24.640516Z"
    }
   },
   "outputs": [],
   "source": [
    "y_train = y_train[X_train.index]"
   ]
  },
  {
   "cell_type": "code",
   "execution_count": 273,
   "metadata": {
    "ExecuteTime": {
     "end_time": "2021-12-18T20:36:24.736522Z",
     "start_time": "2021-12-18T20:36:24.731518Z"
    }
   },
   "outputs": [],
   "source": [
    "X_train.reset_index(inplace=True, drop=True)\n",
    "y_train.reset_index(inplace=True, drop=True)"
   ]
  },
  {
   "cell_type": "code",
   "execution_count": 274,
   "metadata": {
    "ExecuteTime": {
     "end_time": "2021-12-18T20:36:27.182438Z",
     "start_time": "2021-12-18T20:36:27.178422Z"
    }
   },
   "outputs": [
    {
     "name": "stdout",
     "output_type": "stream",
     "text": [
      "X_train: (445414, 21)  - y_train: (445414,)\n"
     ]
    }
   ],
   "source": [
    "print('X_train:', X_train.shape, ' - y_train:', y_train.shape)"
   ]
  },
  {
   "cell_type": "markdown",
   "metadata": {},
   "source": [
    "### Encoding"
   ]
  },
  {
   "cell_type": "markdown",
   "metadata": {},
   "source": [
    "Analysis for categorical features:"
   ]
  },
  {
   "cell_type": "code",
   "execution_count": 275,
   "metadata": {
    "ExecuteTime": {
     "end_time": "2021-12-18T20:36:29.012000Z",
     "start_time": "2021-12-18T20:36:28.970018Z"
    }
   },
   "outputs": [
    {
     "data": {
      "text/html": [
       "<div>\n",
       "<style scoped>\n",
       "    .dataframe tbody tr th:only-of-type {\n",
       "        vertical-align: middle;\n",
       "    }\n",
       "\n",
       "    .dataframe tbody tr th {\n",
       "        vertical-align: top;\n",
       "    }\n",
       "\n",
       "    .dataframe thead th {\n",
       "        text-align: right;\n",
       "    }\n",
       "</style>\n",
       "<table border=\"1\" class=\"dataframe\">\n",
       "  <thead>\n",
       "    <tr style=\"text-align: right;\">\n",
       "      <th></th>\n",
       "      <th>tipo_ban</th>\n",
       "      <th>tipo_seg</th>\n",
       "      <th>categoria</th>\n",
       "      <th>tipo_com</th>\n",
       "      <th>tipo_cat</th>\n",
       "      <th>tipo_cli</th>\n",
       "    </tr>\n",
       "  </thead>\n",
       "  <tbody>\n",
       "    <tr>\n",
       "      <th>0</th>\n",
       "      <td>BAN1</td>\n",
       "      <td>NO PROD3</td>\n",
       "      <td>V5</td>\n",
       "      <td>COM4</td>\n",
       "      <td>RUBRO5</td>\n",
       "      <td>CLI1</td>\n",
       "    </tr>\n",
       "    <tr>\n",
       "      <th>1</th>\n",
       "      <td>BAN1</td>\n",
       "      <td>NO PROD3</td>\n",
       "      <td>V3</td>\n",
       "      <td>COM4</td>\n",
       "      <td>RUBRO8</td>\n",
       "      <td>CLI1</td>\n",
       "    </tr>\n",
       "    <tr>\n",
       "      <th>2</th>\n",
       "      <td>BAN1</td>\n",
       "      <td>PROD1</td>\n",
       "      <td>V4</td>\n",
       "      <td>COM2</td>\n",
       "      <td>RUBRO5</td>\n",
       "      <td>CLI1</td>\n",
       "    </tr>\n",
       "    <tr>\n",
       "      <th>3</th>\n",
       "      <td>BAN1</td>\n",
       "      <td>NO PROD3</td>\n",
       "      <td>V2</td>\n",
       "      <td>COM4</td>\n",
       "      <td>RUBRO5</td>\n",
       "      <td>CLI1</td>\n",
       "    </tr>\n",
       "    <tr>\n",
       "      <th>4</th>\n",
       "      <td>BAN1</td>\n",
       "      <td>PROD1/PROD2</td>\n",
       "      <td>V2</td>\n",
       "      <td>COM3</td>\n",
       "      <td>RUBRO7</td>\n",
       "      <td>CLI1</td>\n",
       "    </tr>\n",
       "  </tbody>\n",
       "</table>\n",
       "</div>"
      ],
      "text/plain": [
       "  tipo_ban     tipo_seg categoria tipo_com tipo_cat tipo_cli\n",
       "0     BAN1     NO PROD3        V5     COM4   RUBRO5     CLI1\n",
       "1     BAN1     NO PROD3        V3     COM4   RUBRO8     CLI1\n",
       "2     BAN1        PROD1        V4     COM2   RUBRO5     CLI1\n",
       "3     BAN1     NO PROD3        V2     COM4   RUBRO5     CLI1\n",
       "4     BAN1  PROD1/PROD2        V2     COM3   RUBRO7     CLI1"
      ]
     },
     "execution_count": 275,
     "metadata": {},
     "output_type": "execute_result"
    }
   ],
   "source": [
    "X_train.select_dtypes('object').head()"
   ]
  },
  {
   "cell_type": "markdown",
   "metadata": {},
   "source": [
    "The feature ```categoria``` looks like categorical ordinal since it refers to levels, the other categories can be encoded with one hot encodert."
   ]
  },
  {
   "cell_type": "markdown",
   "metadata": {
    "ExecuteTime": {
     "end_time": "2021-12-16T03:31:20.407708Z",
     "start_time": "2021-12-16T03:31:20.402723Z"
    }
   },
   "source": [
    "#### Encoding ```categoria```"
   ]
  },
  {
   "cell_type": "code",
   "execution_count": 276,
   "metadata": {
    "ExecuteTime": {
     "end_time": "2021-12-18T20:36:29.967138Z",
     "start_time": "2021-12-18T20:36:29.802777Z"
    }
   },
   "outputs": [],
   "source": [
    "encoder_categoria = OrdinalEncoder(handle_unknown='use_encoded_value', unknown_value=-1, dtype='int8')\n",
    "X_train['categoria'] = encoder_categoria.fit_transform(X_train[['categoria']])"
   ]
  },
  {
   "cell_type": "markdown",
   "metadata": {
    "ExecuteTime": {
     "end_time": "2021-12-16T04:35:52.600100Z",
     "start_time": "2021-12-16T04:35:52.578069Z"
    }
   },
   "source": [
    "#### Encoding rest of categories"
   ]
  },
  {
   "cell_type": "code",
   "execution_count": 277,
   "metadata": {
    "ExecuteTime": {
     "end_time": "2021-12-18T20:36:30.383721Z",
     "start_time": "2021-12-18T20:36:30.377756Z"
    }
   },
   "outputs": [],
   "source": [
    "encoder_features = OneHotEncoder(handle_unknown='ignore', sparse=False, dtype='int8')"
   ]
  },
  {
   "cell_type": "code",
   "execution_count": 278,
   "metadata": {
    "ExecuteTime": {
     "end_time": "2021-12-18T20:36:33.892088Z",
     "start_time": "2021-12-18T20:36:31.970289Z"
    }
   },
   "outputs": [],
   "source": [
    "df_categorical = X_train.select_dtypes('object')\n",
    "\n",
    "df_encoded_features = pd.DataFrame(encoder_features.fit_transform(df_categorical), \n",
    "                                   columns=encoder_features.get_feature_names_out())"
   ]
  },
  {
   "cell_type": "code",
   "execution_count": 279,
   "metadata": {
    "ExecuteTime": {
     "end_time": "2021-12-18T20:36:33.957091Z",
     "start_time": "2021-12-18T20:36:33.894093Z"
    }
   },
   "outputs": [],
   "source": [
    "X_train.drop(df_categorical.columns, axis=1, inplace=True)"
   ]
  },
  {
   "cell_type": "code",
   "execution_count": 280,
   "metadata": {
    "ExecuteTime": {
     "end_time": "2021-12-18T20:36:33.969091Z",
     "start_time": "2021-12-18T20:36:33.959091Z"
    }
   },
   "outputs": [
    {
     "name": "stdout",
     "output_type": "stream",
     "text": [
      "Before concat() (445414, 16)\n"
     ]
    }
   ],
   "source": [
    "print('Before concat()', X_train.shape)"
   ]
  },
  {
   "cell_type": "code",
   "execution_count": 281,
   "metadata": {
    "ExecuteTime": {
     "end_time": "2021-12-18T20:36:34.069129Z",
     "start_time": "2021-12-18T20:36:33.972105Z"
    }
   },
   "outputs": [],
   "source": [
    "X_train = pd.concat([X_train, df_encoded_features], axis=1)"
   ]
  },
  {
   "cell_type": "code",
   "execution_count": 282,
   "metadata": {
    "ExecuteTime": {
     "end_time": "2021-12-18T20:36:34.080096Z",
     "start_time": "2021-12-18T20:36:34.071090Z"
    }
   },
   "outputs": [
    {
     "name": "stdout",
     "output_type": "stream",
     "text": [
      "After concat() (445414, 47)\n"
     ]
    }
   ],
   "source": [
    "print('After concat()', X_train.shape)"
   ]
  },
  {
   "cell_type": "markdown",
   "metadata": {},
   "source": [
    "Checking for non-existing categorical features:"
   ]
  },
  {
   "cell_type": "code",
   "execution_count": 283,
   "metadata": {
    "ExecuteTime": {
     "end_time": "2021-12-18T20:36:35.021815Z",
     "start_time": "2021-12-18T20:36:35.010818Z"
    }
   },
   "outputs": [
    {
     "name": "stdout",
     "output_type": "stream",
     "text": [
      "Categorical features 0\n"
     ]
    }
   ],
   "source": [
    "print('Categorical features', (X_train.dtypes=='object').sum())"
   ]
  },
  {
   "cell_type": "markdown",
   "metadata": {},
   "source": [
    "### Imputing missing values"
   ]
  },
  {
   "cell_type": "markdown",
   "metadata": {},
   "source": [
    "Current missing values:"
   ]
  },
  {
   "cell_type": "code",
   "execution_count": 284,
   "metadata": {
    "ExecuteTime": {
     "end_time": "2021-12-18T20:36:35.961957Z",
     "start_time": "2021-12-18T20:36:35.904962Z"
    }
   },
   "outputs": [
    {
     "name": "stdout",
     "output_type": "stream",
     "text": [
      "VAR5_sum     114589\n",
      "VAR5_prom    114589\n",
      "VAR5_trx     114589\n",
      "VAR11_sum     28803\n",
      "VAR12_sum     28803\n",
      "VAR13_sum     28803\n",
      "VAR14_sum     28803\n",
      "VAR15_sum     28803\n",
      "VAR18_sum     28803\n",
      "VAR19_sum     28803\n",
      "VAR20_sum     28803\n",
      "VAR21_sum     28803\n",
      "VAR22_sum     28803\n",
      "dtype: int64\n"
     ]
    }
   ],
   "source": [
    "train_nan = X_train.isna().sum()\n",
    "train_nan = train_nan[train_nan>0]\n",
    "print(train_nan)"
   ]
  },
  {
   "cell_type": "markdown",
   "metadata": {},
   "source": [
    "Creating model to fit and transform based on an estimator:"
   ]
  },
  {
   "cell_type": "code",
   "execution_count": 245,
   "metadata": {
    "ExecuteTime": {
     "end_time": "2021-12-18T20:15:42.008530Z",
     "start_time": "2021-12-18T20:00:46.841019Z"
    }
   },
   "outputs": [
    {
     "name": "stdout",
     "output_type": "stream",
     "text": [
      "[IterativeImputer] Completing matrix with shape (445414, 47)\n",
      "[IterativeImputer] Ending imputation round 1/4, elapsed time 220.58\n",
      "[IterativeImputer] Change: 236987064.0255258, scaled tolerance: 38116777.491000004 \n",
      "[IterativeImputer] Ending imputation round 2/4, elapsed time 444.44\n",
      "[IterativeImputer] Change: 832135086.0, scaled tolerance: 38116777.491000004 \n",
      "[IterativeImputer] Ending imputation round 3/4, elapsed time 667.96\n",
      "[IterativeImputer] Change: 860775400.354, scaled tolerance: 38116777.491000004 \n",
      "[IterativeImputer] Ending imputation round 4/4, elapsed time 892.62\n",
      "[IterativeImputer] Change: 836799855.246, scaled tolerance: 38116777.491000004 \n"
     ]
    },
    {
     "name": "stderr",
     "output_type": "stream",
     "text": [
      "C:\\Users\\Erick\\anaconda3\\envs\\bci-env\\lib\\site-packages\\sklearn\\impute\\_iterative.py:699: ConvergenceWarning: [IterativeImputer] Early stopping criterion not reached.\n",
      "  warnings.warn(\n"
     ]
    },
    {
     "name": "stdout",
     "output_type": "stream",
     "text": [
      "Wall time: 14min 55s\n"
     ]
    }
   ],
   "source": [
    "%%time\n",
    "\n",
    "iterativeImputer = IterativeImputer(\n",
    "                        estimator=DecisionTreeRegressor(random_state=SEED),\n",
    "                        random_state=SEED, \n",
    "                        verbose=2, \n",
    "                        max_iter=4,    \n",
    "                        add_indicator=True\n",
    "                    )\n",
    "\n",
    "train_imputed = iterativeImputer.fit_transform(X_train)"
   ]
  },
  {
   "cell_type": "markdown",
   "metadata": {},
   "source": [
    "**Assert**`: Number of columns in train dataset + Number of indicator columns must be same that imputed dataset"
   ]
  },
  {
   "cell_type": "code",
   "execution_count": 246,
   "metadata": {
    "ExecuteTime": {
     "end_time": "2021-12-18T20:15:51.454941Z",
     "start_time": "2021-12-18T20:15:51.448953Z"
    }
   },
   "outputs": [],
   "source": [
    "assert train_imputed.shape[1] == X_train.shape[1]+len(train_nan.index), 'Columns mismatch'"
   ]
  },
  {
   "cell_type": "markdown",
   "metadata": {},
   "source": [
    "**Assert**: If train dataset without imputation does not contain negative values, then imputed dataset should not also contain them either"
   ]
  },
  {
   "cell_type": "code",
   "execution_count": 247,
   "metadata": {
    "ExecuteTime": {
     "end_time": "2021-12-18T20:15:52.507221Z",
     "start_time": "2021-12-18T20:15:52.368214Z"
    }
   },
   "outputs": [],
   "source": [
    "assert (train_imputed<0).sum().sum() == (X_train<0).sum().sum(), 'Make sure the estimator used in iterative imputer predict positive values'"
   ]
  },
  {
   "cell_type": "code",
   "execution_count": 285,
   "metadata": {
    "ExecuteTime": {
     "end_time": "2021-12-18T20:40:09.944581Z",
     "start_time": "2021-12-18T20:40:06.795351Z"
    }
   },
   "outputs": [],
   "source": [
    "columns_indicator = ['ind_'+ col for col in train_nan.index]\n",
    "X_train_imputed = pd.DataFrame(train_imputed, columns=np.append(X_train.columns, columns_indicator))\n",
    "\n",
    "X_train_imputed['categoria'] = X_train['categoria'].astype('int8')\n",
    "\n",
    "for column in columns_indicator:\n",
    "    X_train_imputed[column] = X_train_imputed[column].astype('int8')"
   ]
  },
  {
   "cell_type": "code",
   "execution_count": 286,
   "metadata": {
    "ExecuteTime": {
     "end_time": "2021-12-18T20:40:09.985745Z",
     "start_time": "2021-12-18T20:40:09.946580Z"
    }
   },
   "outputs": [
    {
     "data": {
      "text/html": [
       "<div>\n",
       "<style scoped>\n",
       "    .dataframe tbody tr th:only-of-type {\n",
       "        vertical-align: middle;\n",
       "    }\n",
       "\n",
       "    .dataframe tbody tr th {\n",
       "        vertical-align: top;\n",
       "    }\n",
       "\n",
       "    .dataframe thead th {\n",
       "        text-align: right;\n",
       "    }\n",
       "</style>\n",
       "<table border=\"1\" class=\"dataframe\">\n",
       "  <thead>\n",
       "    <tr style=\"text-align: right;\">\n",
       "      <th></th>\n",
       "      <th>categoria</th>\n",
       "      <th>VAR5_sum</th>\n",
       "      <th>VAR5_prom</th>\n",
       "      <th>VAR5_trx</th>\n",
       "      <th>VAR11_sum</th>\n",
       "      <th>VAR12_sum</th>\n",
       "      <th>VAR13_sum</th>\n",
       "      <th>VAR14_sum</th>\n",
       "      <th>VAR15_sum</th>\n",
       "      <th>VAR18_sum</th>\n",
       "      <th>...</th>\n",
       "      <th>ind_VAR11_sum</th>\n",
       "      <th>ind_VAR12_sum</th>\n",
       "      <th>ind_VAR13_sum</th>\n",
       "      <th>ind_VAR14_sum</th>\n",
       "      <th>ind_VAR15_sum</th>\n",
       "      <th>ind_VAR18_sum</th>\n",
       "      <th>ind_VAR19_sum</th>\n",
       "      <th>ind_VAR20_sum</th>\n",
       "      <th>ind_VAR21_sum</th>\n",
       "      <th>ind_VAR22_sum</th>\n",
       "    </tr>\n",
       "  </thead>\n",
       "  <tbody>\n",
       "    <tr>\n",
       "      <th>0</th>\n",
       "      <td>3</td>\n",
       "      <td>180519180.0</td>\n",
       "      <td>3630612.678</td>\n",
       "      <td>39.0</td>\n",
       "      <td>296921717.0</td>\n",
       "      <td>296921717.0</td>\n",
       "      <td>296921717.0</td>\n",
       "      <td>0.0</td>\n",
       "      <td>0.0</td>\n",
       "      <td>0.0</td>\n",
       "      <td>...</td>\n",
       "      <td>0</td>\n",
       "      <td>0</td>\n",
       "      <td>0</td>\n",
       "      <td>0</td>\n",
       "      <td>0</td>\n",
       "      <td>0</td>\n",
       "      <td>0</td>\n",
       "      <td>0</td>\n",
       "      <td>0</td>\n",
       "      <td>0</td>\n",
       "    </tr>\n",
       "    <tr>\n",
       "      <th>1</th>\n",
       "      <td>1</td>\n",
       "      <td>70000.0</td>\n",
       "      <td>70000.000</td>\n",
       "      <td>1.0</td>\n",
       "      <td>0.0</td>\n",
       "      <td>0.0</td>\n",
       "      <td>0.0</td>\n",
       "      <td>0.0</td>\n",
       "      <td>0.0</td>\n",
       "      <td>0.0</td>\n",
       "      <td>...</td>\n",
       "      <td>0</td>\n",
       "      <td>0</td>\n",
       "      <td>0</td>\n",
       "      <td>0</td>\n",
       "      <td>0</td>\n",
       "      <td>0</td>\n",
       "      <td>0</td>\n",
       "      <td>0</td>\n",
       "      <td>0</td>\n",
       "      <td>0</td>\n",
       "    </tr>\n",
       "    <tr>\n",
       "      <th>2</th>\n",
       "      <td>2</td>\n",
       "      <td>11061050.0</td>\n",
       "      <td>1682065.000</td>\n",
       "      <td>7.0</td>\n",
       "      <td>3341946.0</td>\n",
       "      <td>0.0</td>\n",
       "      <td>3341946.0</td>\n",
       "      <td>0.0</td>\n",
       "      <td>0.0</td>\n",
       "      <td>0.0</td>\n",
       "      <td>...</td>\n",
       "      <td>0</td>\n",
       "      <td>0</td>\n",
       "      <td>0</td>\n",
       "      <td>0</td>\n",
       "      <td>0</td>\n",
       "      <td>0</td>\n",
       "      <td>0</td>\n",
       "      <td>0</td>\n",
       "      <td>0</td>\n",
       "      <td>0</td>\n",
       "    </tr>\n",
       "    <tr>\n",
       "      <th>3</th>\n",
       "      <td>0</td>\n",
       "      <td>9639920.0</td>\n",
       "      <td>1606653.333</td>\n",
       "      <td>6.0</td>\n",
       "      <td>0.0</td>\n",
       "      <td>0.0</td>\n",
       "      <td>0.0</td>\n",
       "      <td>0.0</td>\n",
       "      <td>0.0</td>\n",
       "      <td>0.0</td>\n",
       "      <td>...</td>\n",
       "      <td>0</td>\n",
       "      <td>0</td>\n",
       "      <td>0</td>\n",
       "      <td>0</td>\n",
       "      <td>0</td>\n",
       "      <td>0</td>\n",
       "      <td>0</td>\n",
       "      <td>0</td>\n",
       "      <td>0</td>\n",
       "      <td>0</td>\n",
       "    </tr>\n",
       "    <tr>\n",
       "      <th>4</th>\n",
       "      <td>0</td>\n",
       "      <td>4657240.0</td>\n",
       "      <td>109080.730</td>\n",
       "      <td>37.0</td>\n",
       "      <td>36721008.0</td>\n",
       "      <td>36721008.0</td>\n",
       "      <td>36721008.0</td>\n",
       "      <td>0.0</td>\n",
       "      <td>0.0</td>\n",
       "      <td>0.0</td>\n",
       "      <td>...</td>\n",
       "      <td>0</td>\n",
       "      <td>0</td>\n",
       "      <td>0</td>\n",
       "      <td>0</td>\n",
       "      <td>0</td>\n",
       "      <td>0</td>\n",
       "      <td>0</td>\n",
       "      <td>0</td>\n",
       "      <td>0</td>\n",
       "      <td>0</td>\n",
       "    </tr>\n",
       "  </tbody>\n",
       "</table>\n",
       "<p>5 rows × 60 columns</p>\n",
       "</div>"
      ],
      "text/plain": [
       "   categoria     VAR5_sum    VAR5_prom  VAR5_trx    VAR11_sum    VAR12_sum  \\\n",
       "0          3  180519180.0  3630612.678      39.0  296921717.0  296921717.0   \n",
       "1          1      70000.0    70000.000       1.0          0.0          0.0   \n",
       "2          2   11061050.0  1682065.000       7.0    3341946.0          0.0   \n",
       "3          0    9639920.0  1606653.333       6.0          0.0          0.0   \n",
       "4          0    4657240.0   109080.730      37.0   36721008.0   36721008.0   \n",
       "\n",
       "     VAR13_sum  VAR14_sum  VAR15_sum  VAR18_sum  ...  ind_VAR11_sum  \\\n",
       "0  296921717.0        0.0        0.0        0.0  ...              0   \n",
       "1          0.0        0.0        0.0        0.0  ...              0   \n",
       "2    3341946.0        0.0        0.0        0.0  ...              0   \n",
       "3          0.0        0.0        0.0        0.0  ...              0   \n",
       "4   36721008.0        0.0        0.0        0.0  ...              0   \n",
       "\n",
       "   ind_VAR12_sum  ind_VAR13_sum  ind_VAR14_sum  ind_VAR15_sum  ind_VAR18_sum  \\\n",
       "0              0              0              0              0              0   \n",
       "1              0              0              0              0              0   \n",
       "2              0              0              0              0              0   \n",
       "3              0              0              0              0              0   \n",
       "4              0              0              0              0              0   \n",
       "\n",
       "   ind_VAR19_sum  ind_VAR20_sum  ind_VAR21_sum  ind_VAR22_sum  \n",
       "0              0              0              0              0  \n",
       "1              0              0              0              0  \n",
       "2              0              0              0              0  \n",
       "3              0              0              0              0  \n",
       "4              0              0              0              0  \n",
       "\n",
       "[5 rows x 60 columns]"
      ]
     },
     "execution_count": 286,
     "metadata": {},
     "output_type": "execute_result"
    }
   ],
   "source": [
    "X_train_imputed.head()"
   ]
  },
  {
   "cell_type": "markdown",
   "metadata": {},
   "source": [
    "### Scaling"
   ]
  },
  {
   "cell_type": "code",
   "execution_count": 287,
   "metadata": {
    "ExecuteTime": {
     "end_time": "2021-12-18T20:40:24.800242Z",
     "start_time": "2021-12-18T20:40:23.819159Z"
    }
   },
   "outputs": [],
   "source": [
    "standardScaler = StandardScaler()\n",
    "X_train_sc = pd.DataFrame(standardScaler.fit_transform(X_train_imputed), columns=X_train_imputed.columns)"
   ]
  },
  {
   "cell_type": "code",
   "execution_count": 288,
   "metadata": {
    "ExecuteTime": {
     "end_time": "2021-12-18T20:40:25.293924Z",
     "start_time": "2021-12-18T20:40:25.267932Z"
    }
   },
   "outputs": [
    {
     "data": {
      "text/html": [
       "<div>\n",
       "<style scoped>\n",
       "    .dataframe tbody tr th:only-of-type {\n",
       "        vertical-align: middle;\n",
       "    }\n",
       "\n",
       "    .dataframe tbody tr th {\n",
       "        vertical-align: top;\n",
       "    }\n",
       "\n",
       "    .dataframe thead th {\n",
       "        text-align: right;\n",
       "    }\n",
       "</style>\n",
       "<table border=\"1\" class=\"dataframe\">\n",
       "  <thead>\n",
       "    <tr style=\"text-align: right;\">\n",
       "      <th></th>\n",
       "      <th>categoria</th>\n",
       "      <th>VAR5_sum</th>\n",
       "      <th>VAR5_prom</th>\n",
       "      <th>VAR5_trx</th>\n",
       "      <th>VAR11_sum</th>\n",
       "      <th>VAR12_sum</th>\n",
       "      <th>VAR13_sum</th>\n",
       "      <th>VAR14_sum</th>\n",
       "      <th>VAR15_sum</th>\n",
       "      <th>VAR18_sum</th>\n",
       "      <th>...</th>\n",
       "      <th>ind_VAR11_sum</th>\n",
       "      <th>ind_VAR12_sum</th>\n",
       "      <th>ind_VAR13_sum</th>\n",
       "      <th>ind_VAR14_sum</th>\n",
       "      <th>ind_VAR15_sum</th>\n",
       "      <th>ind_VAR18_sum</th>\n",
       "      <th>ind_VAR19_sum</th>\n",
       "      <th>ind_VAR20_sum</th>\n",
       "      <th>ind_VAR21_sum</th>\n",
       "      <th>ind_VAR22_sum</th>\n",
       "    </tr>\n",
       "  </thead>\n",
       "  <tbody>\n",
       "    <tr>\n",
       "      <th>0</th>\n",
       "      <td>1.166861</td>\n",
       "      <td>1.957715</td>\n",
       "      <td>1.792988</td>\n",
       "      <td>0.225316</td>\n",
       "      <td>0.294239</td>\n",
       "      <td>0.525615</td>\n",
       "      <td>0.297719</td>\n",
       "      <td>-0.102617</td>\n",
       "      <td>-0.16999</td>\n",
       "      <td>-0.004284</td>\n",
       "      <td>...</td>\n",
       "      <td>-0.262938</td>\n",
       "      <td>-0.262938</td>\n",
       "      <td>-0.262938</td>\n",
       "      <td>-0.262938</td>\n",
       "      <td>-0.262938</td>\n",
       "      <td>-0.262938</td>\n",
       "      <td>-0.262938</td>\n",
       "      <td>-0.262938</td>\n",
       "      <td>-0.262938</td>\n",
       "      <td>-0.262938</td>\n",
       "    </tr>\n",
       "    <tr>\n",
       "      <th>1</th>\n",
       "      <td>-0.190862</td>\n",
       "      <td>-0.305531</td>\n",
       "      <td>-0.966554</td>\n",
       "      <td>-0.299101</td>\n",
       "      <td>-0.209678</td>\n",
       "      <td>-0.182997</td>\n",
       "      <td>-0.206254</td>\n",
       "      <td>-0.102617</td>\n",
       "      <td>-0.16999</td>\n",
       "      <td>-0.004284</td>\n",
       "      <td>...</td>\n",
       "      <td>-0.262938</td>\n",
       "      <td>-0.262938</td>\n",
       "      <td>-0.262938</td>\n",
       "      <td>-0.262938</td>\n",
       "      <td>-0.262938</td>\n",
       "      <td>-0.262938</td>\n",
       "      <td>-0.262938</td>\n",
       "      <td>-0.262938</td>\n",
       "      <td>-0.262938</td>\n",
       "      <td>-0.262938</td>\n",
       "    </tr>\n",
       "    <tr>\n",
       "      <th>2</th>\n",
       "      <td>0.488000</td>\n",
       "      <td>-0.167678</td>\n",
       "      <td>0.282827</td>\n",
       "      <td>-0.216298</td>\n",
       "      <td>-0.204006</td>\n",
       "      <td>-0.182997</td>\n",
       "      <td>-0.200582</td>\n",
       "      <td>-0.102617</td>\n",
       "      <td>-0.16999</td>\n",
       "      <td>-0.004284</td>\n",
       "      <td>...</td>\n",
       "      <td>-0.262938</td>\n",
       "      <td>-0.262938</td>\n",
       "      <td>-0.262938</td>\n",
       "      <td>-0.262938</td>\n",
       "      <td>-0.262938</td>\n",
       "      <td>-0.262938</td>\n",
       "      <td>-0.262938</td>\n",
       "      <td>-0.262938</td>\n",
       "      <td>-0.262938</td>\n",
       "      <td>-0.262938</td>\n",
       "    </tr>\n",
       "    <tr>\n",
       "      <th>3</th>\n",
       "      <td>-0.869723</td>\n",
       "      <td>-0.185502</td>\n",
       "      <td>0.224381</td>\n",
       "      <td>-0.230099</td>\n",
       "      <td>-0.209678</td>\n",
       "      <td>-0.182997</td>\n",
       "      <td>-0.206254</td>\n",
       "      <td>-0.102617</td>\n",
       "      <td>-0.16999</td>\n",
       "      <td>-0.004284</td>\n",
       "      <td>...</td>\n",
       "      <td>-0.262938</td>\n",
       "      <td>-0.262938</td>\n",
       "      <td>-0.262938</td>\n",
       "      <td>-0.262938</td>\n",
       "      <td>-0.262938</td>\n",
       "      <td>-0.262938</td>\n",
       "      <td>-0.262938</td>\n",
       "      <td>-0.262938</td>\n",
       "      <td>-0.262938</td>\n",
       "      <td>-0.262938</td>\n",
       "    </tr>\n",
       "    <tr>\n",
       "      <th>4</th>\n",
       "      <td>-0.869723</td>\n",
       "      <td>-0.247996</td>\n",
       "      <td>-0.936265</td>\n",
       "      <td>0.197715</td>\n",
       "      <td>-0.147357</td>\n",
       "      <td>-0.095362</td>\n",
       "      <td>-0.143927</td>\n",
       "      <td>-0.102617</td>\n",
       "      <td>-0.16999</td>\n",
       "      <td>-0.004284</td>\n",
       "      <td>...</td>\n",
       "      <td>-0.262938</td>\n",
       "      <td>-0.262938</td>\n",
       "      <td>-0.262938</td>\n",
       "      <td>-0.262938</td>\n",
       "      <td>-0.262938</td>\n",
       "      <td>-0.262938</td>\n",
       "      <td>-0.262938</td>\n",
       "      <td>-0.262938</td>\n",
       "      <td>-0.262938</td>\n",
       "      <td>-0.262938</td>\n",
       "    </tr>\n",
       "  </tbody>\n",
       "</table>\n",
       "<p>5 rows × 60 columns</p>\n",
       "</div>"
      ],
      "text/plain": [
       "   categoria  VAR5_sum  VAR5_prom  VAR5_trx  VAR11_sum  VAR12_sum  VAR13_sum  \\\n",
       "0   1.166861  1.957715   1.792988  0.225316   0.294239   0.525615   0.297719   \n",
       "1  -0.190862 -0.305531  -0.966554 -0.299101  -0.209678  -0.182997  -0.206254   \n",
       "2   0.488000 -0.167678   0.282827 -0.216298  -0.204006  -0.182997  -0.200582   \n",
       "3  -0.869723 -0.185502   0.224381 -0.230099  -0.209678  -0.182997  -0.206254   \n",
       "4  -0.869723 -0.247996  -0.936265  0.197715  -0.147357  -0.095362  -0.143927   \n",
       "\n",
       "   VAR14_sum  VAR15_sum  VAR18_sum  ...  ind_VAR11_sum  ind_VAR12_sum  \\\n",
       "0  -0.102617   -0.16999  -0.004284  ...      -0.262938      -0.262938   \n",
       "1  -0.102617   -0.16999  -0.004284  ...      -0.262938      -0.262938   \n",
       "2  -0.102617   -0.16999  -0.004284  ...      -0.262938      -0.262938   \n",
       "3  -0.102617   -0.16999  -0.004284  ...      -0.262938      -0.262938   \n",
       "4  -0.102617   -0.16999  -0.004284  ...      -0.262938      -0.262938   \n",
       "\n",
       "   ind_VAR13_sum  ind_VAR14_sum  ind_VAR15_sum  ind_VAR18_sum  ind_VAR19_sum  \\\n",
       "0      -0.262938      -0.262938      -0.262938      -0.262938      -0.262938   \n",
       "1      -0.262938      -0.262938      -0.262938      -0.262938      -0.262938   \n",
       "2      -0.262938      -0.262938      -0.262938      -0.262938      -0.262938   \n",
       "3      -0.262938      -0.262938      -0.262938      -0.262938      -0.262938   \n",
       "4      -0.262938      -0.262938      -0.262938      -0.262938      -0.262938   \n",
       "\n",
       "   ind_VAR20_sum  ind_VAR21_sum  ind_VAR22_sum  \n",
       "0      -0.262938      -0.262938      -0.262938  \n",
       "1      -0.262938      -0.262938      -0.262938  \n",
       "2      -0.262938      -0.262938      -0.262938  \n",
       "3      -0.262938      -0.262938      -0.262938  \n",
       "4      -0.262938      -0.262938      -0.262938  \n",
       "\n",
       "[5 rows x 60 columns]"
      ]
     },
     "execution_count": 288,
     "metadata": {},
     "output_type": "execute_result"
    }
   ],
   "source": [
    "X_train_sc.head()"
   ]
  },
  {
   "cell_type": "markdown",
   "metadata": {},
   "source": [
    "## Exporting assets"
   ]
  },
  {
   "cell_type": "markdown",
   "metadata": {},
   "source": [
    "### Preprocessed datasets"
   ]
  },
  {
   "cell_type": "code",
   "execution_count": 289,
   "metadata": {
    "ExecuteTime": {
     "end_time": "2021-12-18T20:41:13.014252Z",
     "start_time": "2021-12-18T20:40:27.594415Z"
    }
   },
   "outputs": [],
   "source": [
    "X_train_sc.to_csv('../data/preprocessed/X_train_preprocessed.csv', index=False)\n",
    "y_train.to_csv('../data/preprocessed/y_train_preprocessed.csv', index=False)"
   ]
  },
  {
   "cell_type": "markdown",
   "metadata": {},
   "source": [
    "### Preprocessing objects"
   ]
  },
  {
   "cell_type": "code",
   "execution_count": 291,
   "metadata": {
    "ExecuteTime": {
     "end_time": "2021-12-18T20:42:04.875739Z",
     "start_time": "2021-12-18T20:41:59.451433Z"
    }
   },
   "outputs": [],
   "source": [
    "dump(encoder_categoria, open(PATH_OBJECTS_PREPROCESSING+'encoder_categoria.pkl', 'wb'))\n",
    "dump(encoder_features, open(PATH_OBJECTS_PREPROCESSING+'encoder_features.pkl', 'wb'))\n",
    "dump(iterativeImputer, open(PATH_OBJECTS_PREPROCESSING+'iterativeImputer.pkl', 'wb'))\n",
    "dump(standardScaler, open(PATH_OBJECTS_PREPROCESSING+'scaler.pkl', 'wb'))\n",
    "#dump(robustScaler, open(PATH_OBJECTS_PREPROCESSING+'robustScaler.pkl', 'wb'))"
   ]
  },
  {
   "cell_type": "markdown",
   "metadata": {},
   "source": [
    "## Importing resources"
   ]
  },
  {
   "cell_type": "markdown",
   "metadata": {},
   "source": [
    "### Datasets"
   ]
  },
  {
   "cell_type": "code",
   "execution_count": 4,
   "metadata": {
    "ExecuteTime": {
     "end_time": "2021-12-18T20:47:44.760879Z",
     "start_time": "2021-12-18T20:47:36.498341Z"
    }
   },
   "outputs": [],
   "source": [
    "saved_X_train = pd.read_csv('../data/preprocessed/X_train_preprocessed.csv')\n",
    "saved_y_train = pd.read_csv('../data/preprocessed/y_train_preprocessed.csv')"
   ]
  },
  {
   "cell_type": "code",
   "execution_count": 5,
   "metadata": {
    "ExecuteTime": {
     "end_time": "2021-12-18T20:47:44.810792Z",
     "start_time": "2021-12-18T20:47:44.763798Z"
    }
   },
   "outputs": [
    {
     "data": {
      "text/html": [
       "<div>\n",
       "<style scoped>\n",
       "    .dataframe tbody tr th:only-of-type {\n",
       "        vertical-align: middle;\n",
       "    }\n",
       "\n",
       "    .dataframe tbody tr th {\n",
       "        vertical-align: top;\n",
       "    }\n",
       "\n",
       "    .dataframe thead th {\n",
       "        text-align: right;\n",
       "    }\n",
       "</style>\n",
       "<table border=\"1\" class=\"dataframe\">\n",
       "  <thead>\n",
       "    <tr style=\"text-align: right;\">\n",
       "      <th></th>\n",
       "      <th>categoria</th>\n",
       "      <th>VAR5_sum</th>\n",
       "      <th>VAR5_prom</th>\n",
       "      <th>VAR5_trx</th>\n",
       "      <th>VAR11_sum</th>\n",
       "      <th>VAR12_sum</th>\n",
       "      <th>VAR13_sum</th>\n",
       "      <th>VAR14_sum</th>\n",
       "      <th>VAR15_sum</th>\n",
       "      <th>VAR18_sum</th>\n",
       "      <th>...</th>\n",
       "      <th>ind_VAR11_sum</th>\n",
       "      <th>ind_VAR12_sum</th>\n",
       "      <th>ind_VAR13_sum</th>\n",
       "      <th>ind_VAR14_sum</th>\n",
       "      <th>ind_VAR15_sum</th>\n",
       "      <th>ind_VAR18_sum</th>\n",
       "      <th>ind_VAR19_sum</th>\n",
       "      <th>ind_VAR20_sum</th>\n",
       "      <th>ind_VAR21_sum</th>\n",
       "      <th>ind_VAR22_sum</th>\n",
       "    </tr>\n",
       "  </thead>\n",
       "  <tbody>\n",
       "    <tr>\n",
       "      <th>0</th>\n",
       "      <td>1.166861</td>\n",
       "      <td>1.957715</td>\n",
       "      <td>1.792988</td>\n",
       "      <td>0.225316</td>\n",
       "      <td>0.294239</td>\n",
       "      <td>0.525615</td>\n",
       "      <td>0.297719</td>\n",
       "      <td>-0.102617</td>\n",
       "      <td>-0.16999</td>\n",
       "      <td>-0.004284</td>\n",
       "      <td>...</td>\n",
       "      <td>-0.262938</td>\n",
       "      <td>-0.262938</td>\n",
       "      <td>-0.262938</td>\n",
       "      <td>-0.262938</td>\n",
       "      <td>-0.262938</td>\n",
       "      <td>-0.262938</td>\n",
       "      <td>-0.262938</td>\n",
       "      <td>-0.262938</td>\n",
       "      <td>-0.262938</td>\n",
       "      <td>-0.262938</td>\n",
       "    </tr>\n",
       "    <tr>\n",
       "      <th>1</th>\n",
       "      <td>-0.190862</td>\n",
       "      <td>-0.305531</td>\n",
       "      <td>-0.966554</td>\n",
       "      <td>-0.299101</td>\n",
       "      <td>-0.209678</td>\n",
       "      <td>-0.182997</td>\n",
       "      <td>-0.206254</td>\n",
       "      <td>-0.102617</td>\n",
       "      <td>-0.16999</td>\n",
       "      <td>-0.004284</td>\n",
       "      <td>...</td>\n",
       "      <td>-0.262938</td>\n",
       "      <td>-0.262938</td>\n",
       "      <td>-0.262938</td>\n",
       "      <td>-0.262938</td>\n",
       "      <td>-0.262938</td>\n",
       "      <td>-0.262938</td>\n",
       "      <td>-0.262938</td>\n",
       "      <td>-0.262938</td>\n",
       "      <td>-0.262938</td>\n",
       "      <td>-0.262938</td>\n",
       "    </tr>\n",
       "    <tr>\n",
       "      <th>2</th>\n",
       "      <td>0.488000</td>\n",
       "      <td>-0.167678</td>\n",
       "      <td>0.282827</td>\n",
       "      <td>-0.216298</td>\n",
       "      <td>-0.204006</td>\n",
       "      <td>-0.182997</td>\n",
       "      <td>-0.200582</td>\n",
       "      <td>-0.102617</td>\n",
       "      <td>-0.16999</td>\n",
       "      <td>-0.004284</td>\n",
       "      <td>...</td>\n",
       "      <td>-0.262938</td>\n",
       "      <td>-0.262938</td>\n",
       "      <td>-0.262938</td>\n",
       "      <td>-0.262938</td>\n",
       "      <td>-0.262938</td>\n",
       "      <td>-0.262938</td>\n",
       "      <td>-0.262938</td>\n",
       "      <td>-0.262938</td>\n",
       "      <td>-0.262938</td>\n",
       "      <td>-0.262938</td>\n",
       "    </tr>\n",
       "    <tr>\n",
       "      <th>3</th>\n",
       "      <td>-0.869723</td>\n",
       "      <td>-0.185502</td>\n",
       "      <td>0.224381</td>\n",
       "      <td>-0.230099</td>\n",
       "      <td>-0.209678</td>\n",
       "      <td>-0.182997</td>\n",
       "      <td>-0.206254</td>\n",
       "      <td>-0.102617</td>\n",
       "      <td>-0.16999</td>\n",
       "      <td>-0.004284</td>\n",
       "      <td>...</td>\n",
       "      <td>-0.262938</td>\n",
       "      <td>-0.262938</td>\n",
       "      <td>-0.262938</td>\n",
       "      <td>-0.262938</td>\n",
       "      <td>-0.262938</td>\n",
       "      <td>-0.262938</td>\n",
       "      <td>-0.262938</td>\n",
       "      <td>-0.262938</td>\n",
       "      <td>-0.262938</td>\n",
       "      <td>-0.262938</td>\n",
       "    </tr>\n",
       "    <tr>\n",
       "      <th>4</th>\n",
       "      <td>-0.869723</td>\n",
       "      <td>-0.247996</td>\n",
       "      <td>-0.936265</td>\n",
       "      <td>0.197715</td>\n",
       "      <td>-0.147357</td>\n",
       "      <td>-0.095362</td>\n",
       "      <td>-0.143927</td>\n",
       "      <td>-0.102617</td>\n",
       "      <td>-0.16999</td>\n",
       "      <td>-0.004284</td>\n",
       "      <td>...</td>\n",
       "      <td>-0.262938</td>\n",
       "      <td>-0.262938</td>\n",
       "      <td>-0.262938</td>\n",
       "      <td>-0.262938</td>\n",
       "      <td>-0.262938</td>\n",
       "      <td>-0.262938</td>\n",
       "      <td>-0.262938</td>\n",
       "      <td>-0.262938</td>\n",
       "      <td>-0.262938</td>\n",
       "      <td>-0.262938</td>\n",
       "    </tr>\n",
       "  </tbody>\n",
       "</table>\n",
       "<p>5 rows × 60 columns</p>\n",
       "</div>"
      ],
      "text/plain": [
       "   categoria  VAR5_sum  VAR5_prom  VAR5_trx  VAR11_sum  VAR12_sum  VAR13_sum  \\\n",
       "0   1.166861  1.957715   1.792988  0.225316   0.294239   0.525615   0.297719   \n",
       "1  -0.190862 -0.305531  -0.966554 -0.299101  -0.209678  -0.182997  -0.206254   \n",
       "2   0.488000 -0.167678   0.282827 -0.216298  -0.204006  -0.182997  -0.200582   \n",
       "3  -0.869723 -0.185502   0.224381 -0.230099  -0.209678  -0.182997  -0.206254   \n",
       "4  -0.869723 -0.247996  -0.936265  0.197715  -0.147357  -0.095362  -0.143927   \n",
       "\n",
       "   VAR14_sum  VAR15_sum  VAR18_sum  ...  ind_VAR11_sum  ind_VAR12_sum  \\\n",
       "0  -0.102617   -0.16999  -0.004284  ...      -0.262938      -0.262938   \n",
       "1  -0.102617   -0.16999  -0.004284  ...      -0.262938      -0.262938   \n",
       "2  -0.102617   -0.16999  -0.004284  ...      -0.262938      -0.262938   \n",
       "3  -0.102617   -0.16999  -0.004284  ...      -0.262938      -0.262938   \n",
       "4  -0.102617   -0.16999  -0.004284  ...      -0.262938      -0.262938   \n",
       "\n",
       "   ind_VAR13_sum  ind_VAR14_sum  ind_VAR15_sum  ind_VAR18_sum  ind_VAR19_sum  \\\n",
       "0      -0.262938      -0.262938      -0.262938      -0.262938      -0.262938   \n",
       "1      -0.262938      -0.262938      -0.262938      -0.262938      -0.262938   \n",
       "2      -0.262938      -0.262938      -0.262938      -0.262938      -0.262938   \n",
       "3      -0.262938      -0.262938      -0.262938      -0.262938      -0.262938   \n",
       "4      -0.262938      -0.262938      -0.262938      -0.262938      -0.262938   \n",
       "\n",
       "   ind_VAR20_sum  ind_VAR21_sum  ind_VAR22_sum  \n",
       "0      -0.262938      -0.262938      -0.262938  \n",
       "1      -0.262938      -0.262938      -0.262938  \n",
       "2      -0.262938      -0.262938      -0.262938  \n",
       "3      -0.262938      -0.262938      -0.262938  \n",
       "4      -0.262938      -0.262938      -0.262938  \n",
       "\n",
       "[5 rows x 60 columns]"
      ]
     },
     "execution_count": 5,
     "metadata": {},
     "output_type": "execute_result"
    }
   ],
   "source": [
    "saved_X_train.head()"
   ]
  },
  {
   "cell_type": "code",
   "execution_count": 6,
   "metadata": {
    "ExecuteTime": {
     "end_time": "2021-12-18T20:47:44.824791Z",
     "start_time": "2021-12-18T20:47:44.813789Z"
    }
   },
   "outputs": [
    {
     "data": {
      "text/html": [
       "<div>\n",
       "<style scoped>\n",
       "    .dataframe tbody tr th:only-of-type {\n",
       "        vertical-align: middle;\n",
       "    }\n",
       "\n",
       "    .dataframe tbody tr th {\n",
       "        vertical-align: top;\n",
       "    }\n",
       "\n",
       "    .dataframe thead th {\n",
       "        text-align: right;\n",
       "    }\n",
       "</style>\n",
       "<table border=\"1\" class=\"dataframe\">\n",
       "  <thead>\n",
       "    <tr style=\"text-align: right;\">\n",
       "      <th></th>\n",
       "      <th>target_mes</th>\n",
       "    </tr>\n",
       "  </thead>\n",
       "  <tbody>\n",
       "    <tr>\n",
       "      <th>0</th>\n",
       "      <td>115.67</td>\n",
       "    </tr>\n",
       "    <tr>\n",
       "      <th>1</th>\n",
       "      <td>11.58</td>\n",
       "    </tr>\n",
       "    <tr>\n",
       "      <th>2</th>\n",
       "      <td>28.36</td>\n",
       "    </tr>\n",
       "    <tr>\n",
       "      <th>3</th>\n",
       "      <td>95.53</td>\n",
       "    </tr>\n",
       "    <tr>\n",
       "      <th>4</th>\n",
       "      <td>16.39</td>\n",
       "    </tr>\n",
       "  </tbody>\n",
       "</table>\n",
       "</div>"
      ],
      "text/plain": [
       "   target_mes\n",
       "0      115.67\n",
       "1       11.58\n",
       "2       28.36\n",
       "3       95.53\n",
       "4       16.39"
      ]
     },
     "execution_count": 6,
     "metadata": {},
     "output_type": "execute_result"
    }
   ],
   "source": [
    "saved_y_train.head()"
   ]
  },
  {
   "cell_type": "markdown",
   "metadata": {
    "ExecuteTime": {
     "end_time": "2021-12-18T05:07:18.494208Z",
     "start_time": "2021-12-18T05:07:18.490224Z"
    }
   },
   "source": [
    "### Objects"
   ]
  },
  {
   "cell_type": "code",
   "execution_count": 15,
   "metadata": {
    "ExecuteTime": {
     "end_time": "2021-12-18T20:54:28.775000Z",
     "start_time": "2021-12-18T20:54:23.699532Z"
    }
   },
   "outputs": [],
   "source": [
    "saved_encoder_categoria = load(open(PATH_OBJECTS_PREPROCESSING+'encoder_categoria.pkl', 'rb'))\n",
    "saved_encoder_features  = load(open(PATH_OBJECTS_PREPROCESSING+'encoder_features.pkl', 'rb'))\n",
    "saved_iterativeImputer  = load(open(PATH_OBJECTS_PREPROCESSING+'iterativeImputer.pkl', 'rb'))\n",
    "saved_scaler            = load(open(PATH_OBJECTS_PREPROCESSING+'scaler.pkl', 'rb'))"
   ]
  },
  {
   "cell_type": "markdown",
   "metadata": {},
   "source": [
    "## Pipeline Preprocessing"
   ]
  },
  {
   "cell_type": "code",
   "execution_count": 26,
   "metadata": {
    "ExecuteTime": {
     "end_time": "2021-12-18T20:56:12.589595Z",
     "start_time": "2021-12-18T20:56:12.579619Z"
    }
   },
   "outputs": [],
   "source": [
    "def preprocess_data(df_test):\n",
    "    X_test_copy = df_test    \n",
    "    X_test_copy.reset_index(inplace=True, drop=True)\n",
    "    \n",
    "    # Transforming mes feature\n",
    "    X_test_copy = utils.preprocess_month(X_test_copy)\n",
    "    \n",
    "    # Dropping features with missing values\n",
    "    columns_most_nan_values = utils.get_columns_with_nan_values(X_test_copy)\n",
    "    X_test_copy.drop(list(columns_most_nan_values)+['id'], axis=1, inplace=True)\n",
    "    \n",
    "    # Encoding categoria feature\n",
    "    X_test_copy['categoria'] = saved_encoder_categoria.transform(X_test_copy[['categoria']])\n",
    "    \n",
    "    # Encoding other features\n",
    "    df_categorical_test = X_test_copy.select_dtypes('object')\n",
    "\n",
    "    df_features_test = pd.DataFrame(saved_encoder_features.transform(df_categorical_test), \n",
    "                                   columns=saved_encoder_features.get_feature_names_out())\n",
    "    X_test_copy.drop(df_categorical_test.columns, axis=1, inplace=True)\n",
    "    X_test_copy = pd.concat([X_test_copy, df_features_test], axis=1)\n",
    "\n",
    "    # Imputing missing values\n",
    "    nan_values = X_test_copy.isna().sum()\n",
    "    nan_values = nan_values[nan_values>0]\n",
    "    data_imputed = saved_iterativeImputer.transform(X_test_copy)\n",
    "    \n",
    "    columns_indicator = ['ind_'+ col for col in nan_values.index]\n",
    "    X_test_copy = pd.DataFrame(data_imputed, columns=np.append(X_test_copy.columns, columns_indicator))\n",
    "\n",
    "    X_test_copy['categoria'] = X_test_copy['categoria'].astype('int8')\n",
    "\n",
    "    for column in columns_indicator:\n",
    "        X_test_copy[column] = X_test_copy[column].astype('int8')\n",
    "    \n",
    "    # Scaling\n",
    "    X_test_copy = saved_scaler.transform(X_test_copy)\n",
    "    \n",
    "    return X_test_copy"
   ]
  },
  {
   "cell_type": "code",
   "execution_count": 27,
   "metadata": {
    "ExecuteTime": {
     "end_time": "2021-12-18T20:56:18.955422Z",
     "start_time": "2021-12-18T20:56:13.106895Z"
    }
   },
   "outputs": [
    {
     "name": "stdout",
     "output_type": "stream",
     "text": [
      "[IterativeImputer] Completing matrix with shape (166923, 47)\n",
      "[IterativeImputer] Ending imputation round 1/4, elapsed time 0.86\n",
      "[IterativeImputer] Ending imputation round 2/4, elapsed time 1.73\n",
      "[IterativeImputer] Ending imputation round 3/4, elapsed time 2.60\n",
      "[IterativeImputer] Ending imputation round 4/4, elapsed time 3.46\n"
     ]
    }
   ],
   "source": [
    "X_test_copy = preprocess_data(X_test)"
   ]
  },
  {
   "cell_type": "markdown",
   "metadata": {},
   "source": [
    "## Model"
   ]
  },
  {
   "cell_type": "markdown",
   "metadata": {},
   "source": [
    "### Training"
   ]
  },
  {
   "cell_type": "code",
   "execution_count": 11,
   "metadata": {
    "ExecuteTime": {
     "end_time": "2021-12-18T20:48:00.119861Z",
     "start_time": "2021-12-18T20:48:00.114862Z"
    }
   },
   "outputs": [],
   "source": [
    "model = RandomForestRegressor(random_state=SEED, n_jobs=mp.cpu_count())"
   ]
  },
  {
   "cell_type": "code",
   "execution_count": 12,
   "metadata": {
    "ExecuteTime": {
     "end_time": "2021-12-18T20:52:45.636517Z",
     "start_time": "2021-12-18T20:48:01.713452Z"
    }
   },
   "outputs": [
    {
     "name": "stdout",
     "output_type": "stream",
     "text": [
      "Wall time: 4min 43s\n"
     ]
    },
    {
     "data": {
      "text/plain": [
       "RandomForestRegressor(n_jobs=8, random_state=42)"
      ]
     },
     "execution_count": 12,
     "metadata": {},
     "output_type": "execute_result"
    }
   ],
   "source": [
    "%%time\n",
    "model.fit(saved_X_train, saved_y_train.target_mes)"
   ]
  },
  {
   "cell_type": "markdown",
   "metadata": {},
   "source": [
    "### Evaluating"
   ]
  },
  {
   "cell_type": "code",
   "execution_count": 13,
   "metadata": {
    "ExecuteTime": {
     "end_time": "2021-12-18T20:53:11.277066Z",
     "start_time": "2021-12-18T20:53:11.267023Z"
    }
   },
   "outputs": [],
   "source": [
    "def results_metric(model):\n",
    "    # Predict for train and test\n",
    "    y_pred_train = model.predict(saved_X_train).flatten()\n",
    "    y_pred_test = model.predict(X_test_copy).flatten()\n",
    "\n",
    "    # MAE metric\n",
    "    mae_train = mean_absolute_error(saved_y_train.target_mes, y_pred_train)\n",
    "    mae_test = mean_absolute_error(y_test, y_pred_test)\n",
    "\n",
    "    # Plotting results\n",
    "    plt.figure(figsize=(12, 5))\n",
    "    sns.set(color_codes=True)\n",
    "    plt.subplot(1, 2, 1)    \n",
    "    sns.histplot(saved_y_train.target_mes - y_pred_train, bins=20, kde=True, color='g')\n",
    "    sns.histplot(y_test - y_pred_test, bins=20, kde=True, color='r')\n",
    "    plt.legend(['Train','Test'])\n",
    "    plt.subplot(1, 2, 2)\n",
    "    sns.scatterplot(x=y_test, y=y_pred_test)\n",
    "    sns.set(None)\n",
    "    lims = [\n",
    "        np.min([plt.xlim(), plt.ylim()]),  # min of both axes\n",
    "        np.max([plt.xlim(), plt.ylim()]),  # max of both axes]\n",
    "    ]\n",
    "\n",
    "    plt.plot(lims, lims, 'k-', alpha=0.75, zorder=0)\n",
    "    plt.xlabel('Y Test')\n",
    "    plt.ylabel('Y Pred Test')\n",
    "    print('MAE Train', mae_train)\n",
    "    print('MAE Test', mae_test)"
   ]
  },
  {
   "cell_type": "code",
   "execution_count": 28,
   "metadata": {
    "ExecuteTime": {
     "end_time": "2021-12-18T20:56:58.913588Z",
     "start_time": "2021-12-18T20:56:33.330996Z"
    }
   },
   "outputs": [
    {
     "name": "stderr",
     "output_type": "stream",
     "text": [
      "C:\\Users\\Erick\\anaconda3\\envs\\bci-env\\lib\\site-packages\\sklearn\\base.py:445: UserWarning: X does not have valid feature names, but RandomForestRegressor was fitted with feature names\n",
      "  warnings.warn(\n"
     ]
    },
    {
     "name": "stdout",
     "output_type": "stream",
     "text": [
      "MAE Train 43.48456918854054\n",
      "MAE Test 120.32569864267663\n"
     ]
    },
    {
     "data": {
      "image/png": "[encoded data removed]",
      "text/plain": [
       "<Figure size 864x360 with 2 Axes>"
      ]
     },
     "metadata": {
      "needs_background": "light"
     },
     "output_type": "display_data"
    }
   ],
   "source": [
    "results_metric(model)"
   ]
  },
  {
   "cell_type": "markdown",
   "metadata": {},
   "source": [
    "### Training with whole dataset"
   ]
  },
  {
   "cell_type": "code",
   "execution_count": 210,
   "metadata": {
    "ExecuteTime": {
     "end_time": "2021-12-18T19:25:43.248862Z",
     "start_time": "2021-12-18T19:25:11.886487Z"
    }
   },
   "outputs": [
    {
     "name": "stdout",
     "output_type": "stream",
     "text": [
      "[IterativeImputer] Completing matrix with shape (667691, 47)\n",
      "[IterativeImputer] Ending imputation round 1/5, elapsed time 3.56\n",
      "[IterativeImputer] Ending imputation round 2/5, elapsed time 7.46\n",
      "[IterativeImputer] Ending imputation round 3/5, elapsed time 11.46\n",
      "[IterativeImputer] Ending imputation round 4/5, elapsed time 16.67\n",
      "[IterativeImputer] Ending imputation round 5/5, elapsed time 20.62\n"
     ]
    }
   ],
   "source": [
    "X_preprocessed = preprocess_data(X)"
   ]
  },
  {
   "cell_type": "code",
   "execution_count": 212,
   "metadata": {
    "ExecuteTime": {
     "end_time": "2021-12-18T19:34:19.871105Z",
     "start_time": "2021-12-18T19:26:42.609921Z"
    }
   },
   "outputs": [
    {
     "name": "stdout",
     "output_type": "stream",
     "text": [
      "Wall time: 7min 37s\n"
     ]
    },
    {
     "data": {
      "text/plain": [
       "RandomForestRegressor(n_jobs=8, random_state=42)"
      ]
     },
     "execution_count": 212,
     "metadata": {},
     "output_type": "execute_result"
    }
   ],
   "source": [
    "%%time\n",
    "model_full = RandomForestRegressor(random_state=SEED, n_jobs=mp.cpu_count())\n",
    "model_full.fit(X_preprocessed, y)"
   ]
  },
  {
   "cell_type": "code",
   "execution_count": 213,
   "metadata": {
    "ExecuteTime": {
     "end_time": "2021-12-18T19:34:50.898396Z",
     "start_time": "2021-12-18T19:34:32.960385Z"
    }
   },
   "outputs": [],
   "source": [
    "y_prediction = model_full.predict(X_preprocessed)"
   ]
  },
  {
   "cell_type": "code",
   "execution_count": 214,
   "metadata": {
    "ExecuteTime": {
     "end_time": "2021-12-18T19:35:18.218855Z",
     "start_time": "2021-12-18T19:35:18.111686Z"
    }
   },
   "outputs": [
    {
     "name": "stdout",
     "output_type": "stream",
     "text": [
      "44.103933577616914\n"
     ]
    }
   ],
   "source": [
    "print(mean_absolute_error(y, y_prediction))"
   ]
  },
  {
   "cell_type": "markdown",
   "metadata": {},
   "source": [
    "## Submission"
   ]
  },
  {
   "cell_type": "code",
   "execution_count": 215,
   "metadata": {
    "ExecuteTime": {
     "end_time": "2021-12-18T19:36:07.589177Z",
     "start_time": "2021-12-18T19:36:05.117507Z"
    }
   },
   "outputs": [],
   "source": [
    "test = pd.read_csv('../data/input/test_data.csv')"
   ]
  },
  {
   "cell_type": "markdown",
   "metadata": {},
   "source": [
    "Applying preprocessing pipeline"
   ]
  },
  {
   "cell_type": "code",
   "execution_count": 216,
   "metadata": {
    "ExecuteTime": {
     "end_time": "2021-12-18T19:36:22.774457Z",
     "start_time": "2021-12-18T19:36:08.721959Z"
    }
   },
   "outputs": [
    {
     "name": "stdout",
     "output_type": "stream",
     "text": [
      "[IterativeImputer] Completing matrix with shape (292016, 47)\n",
      "[IterativeImputer] Ending imputation round 1/5, elapsed time 1.56\n",
      "[IterativeImputer] Ending imputation round 2/5, elapsed time 3.46\n",
      "[IterativeImputer] Ending imputation round 3/5, elapsed time 5.46\n",
      "[IterativeImputer] Ending imputation round 4/5, elapsed time 7.47\n",
      "[IterativeImputer] Ending imputation round 5/5, elapsed time 9.46\n"
     ]
    }
   ],
   "source": [
    "test_preprocessed = preprocess_data(test)"
   ]
  },
  {
   "cell_type": "markdown",
   "metadata": {},
   "source": [
    "Predictions"
   ]
  },
  {
   "cell_type": "code",
   "execution_count": 223,
   "metadata": {
    "ExecuteTime": {
     "end_time": "2021-12-18T19:47:05.022222Z",
     "start_time": "2021-12-18T19:46:48.697538Z"
    }
   },
   "outputs": [
    {
     "name": "stderr",
     "output_type": "stream",
     "text": [
      "C:\\Users\\Erick\\anaconda3\\envs\\bci-env\\lib\\site-packages\\sklearn\\base.py:445: UserWarning: X does not have valid feature names, but RandomForestRegressor was fitted with feature names\n",
      "  warnings.warn(\n"
     ]
    }
   ],
   "source": [
    "predictions =  model_full.predict(test_preprocessed)"
   ]
  },
  {
   "cell_type": "markdown",
   "metadata": {},
   "source": [
    "Creating submission"
   ]
  },
  {
   "cell_type": "code",
   "execution_count": 224,
   "metadata": {
    "ExecuteTime": {
     "end_time": "2021-12-18T19:49:35.196954Z",
     "start_time": "2021-12-18T19:49:34.228406Z"
    }
   },
   "outputs": [],
   "source": [
    "df_submission = pd.DataFrame({\n",
    "        'id': test.id,\n",
    "        'mes': test.mes,\n",
    "        'target_mes': predictions\n",
    "    })\n",
    "\n",
    "df_submission.to_csv('../submission/submission.csv', index=False)"
   ]
  },
  {
   "cell_type": "markdown",
   "metadata": {},
   "source": [
    "## References"
   ]
  },
  {
   "cell_type": "markdown",
   "metadata": {},
   "source": [
    "* https://machinelearningmastery.com/how-to-save-and-load-models-and-data-preparation-in-scikit-learn-for-later-use/"
   ]
  }
 ],
 "metadata": {
  "kernelspec": {
   "display_name": "bci-env",
   "language": "python",
   "name": "bci-env"
  },
  "language_info": {
   "codemirror_mode": {
    "name": "ipython",
    "version": 3
   },
   "file_extension": ".py",
   "mimetype": "text/x-python",
   "name": "python",
   "nbconvert_exporter": "python",
   "pygments_lexer": "ipython3",
   "version": "3.9.7"
  },
  "toc": {
   "base_numbering": 1,
   "nav_menu": {},
   "number_sections": true,
   "sideBar": true,
   "skip_h1_title": false,
   "title_cell": "Table of Contents",
   "title_sidebar": "Contents",
   "toc_cell": false,
   "toc_position": {
    "height": "calc(100% - 180px)",
    "left": "10px",
    "top": "150px",
    "width": "303.825px"
   },
   "toc_section_display": true,
   "toc_window_display": true
  }
 },
 "nbformat": 4,
 "nbformat_minor": 4
}
