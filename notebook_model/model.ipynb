{
 "cells": [
  {
   "cell_type": "markdown",
   "metadata": {},
   "source": [
    "# Model BCI Challenge"
   ]
  },
  {
   "cell_type": "markdown",
   "metadata": {},
   "source": [
    "Before starting, make sure your environment is activated:"
   ]
  },
  {
   "cell_type": "code",
   "execution_count": 1,
   "metadata": {
    "ExecuteTime": {
     "end_time": "2021-12-20T16:24:20.194124Z",
     "start_time": "2021-12-20T16:24:18.155884Z"
    }
   },
   "outputs": [
    {
     "name": "stdout",
     "output_type": "stream",
     "text": [
      "# conda environments:\n",
      "#\n",
      "base                     C:\\Users\\Erick\\anaconda3\n",
      "bci-env               *  C:\\Users\\Erick\\anaconda3\\envs\\bci-env\n",
      "\n"
     ]
    }
   ],
   "source": [
    "!conda env list"
   ]
  },
  {
   "cell_type": "markdown",
   "metadata": {},
   "source": [
    "## Modules"
   ]
  },
  {
   "cell_type": "code",
   "execution_count": 1,
   "metadata": {
    "ExecuteTime": {
     "end_time": "2021-12-20T17:58:17.492491Z",
     "start_time": "2021-12-20T17:58:13.370200Z"
    }
   },
   "outputs": [],
   "source": [
    "# Utilities\n",
    "import pandas as pd\n",
    "import numpy as np\n",
    "import multiprocessing as mp\n",
    "from pickle import dump, load\n",
    "\n",
    "# To plot charts\n",
    "import seaborn as sns\n",
    "import matplotlib.pyplot as plt\n",
    "\n",
    "# Preprocessing\n",
    "from sklearn.model_selection import train_test_split\n",
    "from sklearn.preprocessing import OneHotEncoder, OrdinalEncoder, StandardScaler\n",
    "from sklearn.ensemble import RandomForestRegressor\n",
    "\n",
    "## To handle missing values\n",
    "from sklearn.experimental import enable_iterative_imputer\n",
    "from sklearn.impute import IterativeImputer\n",
    "from sklearn.tree import DecisionTreeRegressor\n",
    "\n",
    "# For modeling\n",
    "from sklearn.metrics import mean_absolute_error\n",
    "from sklearn.cluster import KMeans"
   ]
  },
  {
   "cell_type": "code",
   "execution_count": 2,
   "metadata": {
    "ExecuteTime": {
     "end_time": "2021-12-20T17:58:17.515496Z",
     "start_time": "2021-12-20T17:58:17.496492Z"
    }
   },
   "outputs": [],
   "source": [
    "import sys\n",
    "sys.path.append('../src/')\n",
    "\n",
    "import utils"
   ]
  },
  {
   "cell_type": "markdown",
   "metadata": {},
   "source": [
    "## Importing data"
   ]
  },
  {
   "cell_type": "code",
   "execution_count": 3,
   "metadata": {
    "ExecuteTime": {
     "end_time": "2021-12-20T17:58:21.579639Z",
     "start_time": "2021-12-20T17:58:17.518491Z"
    }
   },
   "outputs": [],
   "source": [
    "train = pd.read_csv('../data/input/train_data.csv')"
   ]
  },
  {
   "cell_type": "code",
   "execution_count": 4,
   "metadata": {
    "ExecuteTime": {
     "end_time": "2021-12-20T17:58:21.629602Z",
     "start_time": "2021-12-20T17:58:21.583581Z"
    }
   },
   "outputs": [
    {
     "data": {
      "text/html": [
       "<div>\n",
       "<style scoped>\n",
       "    .dataframe tbody tr th:only-of-type {\n",
       "        vertical-align: middle;\n",
       "    }\n",
       "\n",
       "    .dataframe tbody tr th {\n",
       "        vertical-align: top;\n",
       "    }\n",
       "\n",
       "    .dataframe thead th {\n",
       "        text-align: right;\n",
       "    }\n",
       "</style>\n",
       "<table border=\"1\" class=\"dataframe\">\n",
       "  <thead>\n",
       "    <tr style=\"text-align: right;\">\n",
       "      <th></th>\n",
       "      <th>id</th>\n",
       "      <th>mes</th>\n",
       "      <th>tipo_ban</th>\n",
       "      <th>tipo_seg</th>\n",
       "      <th>categoria</th>\n",
       "      <th>tipo_com</th>\n",
       "      <th>tipo_cat</th>\n",
       "      <th>tipo_cli</th>\n",
       "      <th>VAR1_sum</th>\n",
       "      <th>VAR1_prom</th>\n",
       "      <th>...</th>\n",
       "      <th>VAR27_sum</th>\n",
       "      <th>VAR27_prom</th>\n",
       "      <th>VAR27_trx</th>\n",
       "      <th>VAR28_sum</th>\n",
       "      <th>VAR28_prom</th>\n",
       "      <th>VAR28_trx</th>\n",
       "      <th>VAR29_prom</th>\n",
       "      <th>VAR29_ratio</th>\n",
       "      <th>VAR30_sum</th>\n",
       "      <th>target_mes</th>\n",
       "    </tr>\n",
       "  </thead>\n",
       "  <tbody>\n",
       "    <tr>\n",
       "      <th>0</th>\n",
       "      <td>abdd0c8d3be5</td>\n",
       "      <td>202002</td>\n",
       "      <td>BAN1</td>\n",
       "      <td>NO PROD3</td>\n",
       "      <td>V5</td>\n",
       "      <td>COM4</td>\n",
       "      <td>RUBRO5</td>\n",
       "      <td>CLI1</td>\n",
       "      <td>NaN</td>\n",
       "      <td>NaN</td>\n",
       "      <td>...</td>\n",
       "      <td>NaN</td>\n",
       "      <td>NaN</td>\n",
       "      <td>NaN</td>\n",
       "      <td>NaN</td>\n",
       "      <td>NaN</td>\n",
       "      <td>NaN</td>\n",
       "      <td>NaN</td>\n",
       "      <td>NaN</td>\n",
       "      <td>NaN</td>\n",
       "      <td>0.00</td>\n",
       "    </tr>\n",
       "    <tr>\n",
       "      <th>1</th>\n",
       "      <td>5b290c34ff68</td>\n",
       "      <td>202006</td>\n",
       "      <td>BAN1</td>\n",
       "      <td>PROD1</td>\n",
       "      <td>V2</td>\n",
       "      <td>COM2</td>\n",
       "      <td>RUBRO5</td>\n",
       "      <td>CLI1</td>\n",
       "      <td>NaN</td>\n",
       "      <td>NaN</td>\n",
       "      <td>...</td>\n",
       "      <td>NaN</td>\n",
       "      <td>NaN</td>\n",
       "      <td>NaN</td>\n",
       "      <td>NaN</td>\n",
       "      <td>NaN</td>\n",
       "      <td>NaN</td>\n",
       "      <td>17081.5</td>\n",
       "      <td>0.034</td>\n",
       "      <td>NaN</td>\n",
       "      <td>6.19</td>\n",
       "    </tr>\n",
       "    <tr>\n",
       "      <th>2</th>\n",
       "      <td>54b8678ab09b</td>\n",
       "      <td>201901</td>\n",
       "      <td>BAN1</td>\n",
       "      <td>PROD1/PROD2</td>\n",
       "      <td>V4</td>\n",
       "      <td>COM3</td>\n",
       "      <td>RUBRO3</td>\n",
       "      <td>CLI1</td>\n",
       "      <td>NaN</td>\n",
       "      <td>NaN</td>\n",
       "      <td>...</td>\n",
       "      <td>NaN</td>\n",
       "      <td>NaN</td>\n",
       "      <td>NaN</td>\n",
       "      <td>NaN</td>\n",
       "      <td>NaN</td>\n",
       "      <td>NaN</td>\n",
       "      <td>706250.0</td>\n",
       "      <td>0.706</td>\n",
       "      <td>NaN</td>\n",
       "      <td>22.78</td>\n",
       "    </tr>\n",
       "    <tr>\n",
       "      <th>3</th>\n",
       "      <td>77e1b37ea594</td>\n",
       "      <td>202004</td>\n",
       "      <td>BAN1</td>\n",
       "      <td>NO PROD3</td>\n",
       "      <td>V6</td>\n",
       "      <td>COM4</td>\n",
       "      <td>RUBRO2</td>\n",
       "      <td>CLI1</td>\n",
       "      <td>NaN</td>\n",
       "      <td>NaN</td>\n",
       "      <td>...</td>\n",
       "      <td>NaN</td>\n",
       "      <td>NaN</td>\n",
       "      <td>NaN</td>\n",
       "      <td>NaN</td>\n",
       "      <td>NaN</td>\n",
       "      <td>NaN</td>\n",
       "      <td>7632694.0</td>\n",
       "      <td>0.954</td>\n",
       "      <td>NaN</td>\n",
       "      <td>55.06</td>\n",
       "    </tr>\n",
       "    <tr>\n",
       "      <th>4</th>\n",
       "      <td>7b6c7a3b57a9</td>\n",
       "      <td>202101</td>\n",
       "      <td>BAN1</td>\n",
       "      <td>PROD1</td>\n",
       "      <td>V2</td>\n",
       "      <td>COM2</td>\n",
       "      <td>RUBRO4</td>\n",
       "      <td>CLI2</td>\n",
       "      <td>NaN</td>\n",
       "      <td>NaN</td>\n",
       "      <td>...</td>\n",
       "      <td>NaN</td>\n",
       "      <td>NaN</td>\n",
       "      <td>NaN</td>\n",
       "      <td>NaN</td>\n",
       "      <td>NaN</td>\n",
       "      <td>NaN</td>\n",
       "      <td>376664.0</td>\n",
       "      <td>0.443</td>\n",
       "      <td>70.0</td>\n",
       "      <td>0.19</td>\n",
       "    </tr>\n",
       "  </tbody>\n",
       "</table>\n",
       "<p>5 rows × 70 columns</p>\n",
       "</div>"
      ],
      "text/plain": [
       "             id     mes tipo_ban     tipo_seg categoria tipo_com tipo_cat  \\\n",
       "0  abdd0c8d3be5  202002     BAN1     NO PROD3        V5     COM4   RUBRO5   \n",
       "1  5b290c34ff68  202006     BAN1        PROD1        V2     COM2   RUBRO5   \n",
       "2  54b8678ab09b  201901     BAN1  PROD1/PROD2        V4     COM3   RUBRO3   \n",
       "3  77e1b37ea594  202004     BAN1     NO PROD3        V6     COM4   RUBRO2   \n",
       "4  7b6c7a3b57a9  202101     BAN1        PROD1        V2     COM2   RUBRO4   \n",
       "\n",
       "  tipo_cli  VAR1_sum  VAR1_prom  ...  VAR27_sum  VAR27_prom  VAR27_trx  \\\n",
       "0     CLI1       NaN        NaN  ...        NaN         NaN        NaN   \n",
       "1     CLI1       NaN        NaN  ...        NaN         NaN        NaN   \n",
       "2     CLI1       NaN        NaN  ...        NaN         NaN        NaN   \n",
       "3     CLI1       NaN        NaN  ...        NaN         NaN        NaN   \n",
       "4     CLI2       NaN        NaN  ...        NaN         NaN        NaN   \n",
       "\n",
       "   VAR28_sum  VAR28_prom  VAR28_trx  VAR29_prom  VAR29_ratio  VAR30_sum  \\\n",
       "0        NaN         NaN        NaN         NaN          NaN        NaN   \n",
       "1        NaN         NaN        NaN     17081.5        0.034        NaN   \n",
       "2        NaN         NaN        NaN    706250.0        0.706        NaN   \n",
       "3        NaN         NaN        NaN   7632694.0        0.954        NaN   \n",
       "4        NaN         NaN        NaN    376664.0        0.443       70.0   \n",
       "\n",
       "   target_mes  \n",
       "0        0.00  \n",
       "1        6.19  \n",
       "2       22.78  \n",
       "3       55.06  \n",
       "4        0.19  \n",
       "\n",
       "[5 rows x 70 columns]"
      ]
     },
     "execution_count": 4,
     "metadata": {},
     "output_type": "execute_result"
    }
   ],
   "source": [
    "train.head()"
   ]
  },
  {
   "cell_type": "markdown",
   "metadata": {},
   "source": [
    "## Settings"
   ]
  },
  {
   "cell_type": "code",
   "execution_count": 5,
   "metadata": {
    "ExecuteTime": {
     "end_time": "2021-12-20T17:58:21.639600Z",
     "start_time": "2021-12-20T17:58:21.634584Z"
    }
   },
   "outputs": [],
   "source": [
    "SEED = 42\n",
    "PATH_OBJECTS_PREPROCESSING = '../preprocessing_objects/'"
   ]
  },
  {
   "cell_type": "markdown",
   "metadata": {},
   "source": [
    "## Train-Test split"
   ]
  },
  {
   "cell_type": "code",
   "execution_count": 6,
   "metadata": {
    "ExecuteTime": {
     "end_time": "2021-12-20T17:58:21.973642Z",
     "start_time": "2021-12-20T17:58:21.642585Z"
    }
   },
   "outputs": [],
   "source": [
    "X = train.drop('target_mes', axis=1)\n",
    "y = train.target_mes"
   ]
  },
  {
   "cell_type": "code",
   "execution_count": 7,
   "metadata": {
    "ExecuteTime": {
     "end_time": "2021-12-20T17:58:22.940988Z",
     "start_time": "2021-12-20T17:58:21.975596Z"
    }
   },
   "outputs": [],
   "source": [
    "X_train, X_test, y_train, y_test = train_test_split(X, y, random_state=SEED)\n",
    "\n",
    "X_train.reset_index(inplace=True, drop=True)\n",
    "X_test.reset_index(inplace=True, drop=True)\n",
    "y_train.reset_index(inplace=True, drop=True)\n",
    "y_test.reset_index(inplace=True, drop=True)"
   ]
  },
  {
   "cell_type": "markdown",
   "metadata": {},
   "source": [
    "## Preprocessing"
   ]
  },
  {
   "cell_type": "markdown",
   "metadata": {},
   "source": [
    "Refer to EDA notebook for a better understanding about some actions carried out in this stage."
   ]
  },
  {
   "cell_type": "markdown",
   "metadata": {},
   "source": [
    "### Formating dates"
   ]
  },
  {
   "cell_type": "code",
   "execution_count": 8,
   "metadata": {
    "ExecuteTime": {
     "end_time": "2021-12-20T16:49:09.557158Z",
     "start_time": "2021-12-20T16:49:09.307145Z"
    }
   },
   "outputs": [],
   "source": [
    "X_train.drop('mes', axis=1, inplace=True)"
   ]
  },
  {
   "cell_type": "markdown",
   "metadata": {},
   "source": [
    "### Removing features with missing values"
   ]
  },
  {
   "cell_type": "markdown",
   "metadata": {},
   "source": [
    "To drop features with missing values before encoding and other processing functions helps reducing dimensionality and this latter leads to memory usage reduction, even before training the model. So, it is not necessary to keep features while dataset is processed so that, finally, these are dropped later."
   ]
  },
  {
   "cell_type": "code",
   "execution_count": 9,
   "metadata": {
    "ExecuteTime": {
     "end_time": "2021-12-20T16:49:11.397425Z",
     "start_time": "2021-12-20T16:49:11.146439Z"
    }
   },
   "outputs": [
    {
     "name": "stdout",
     "output_type": "stream",
     "text": [
      "Index(['VAR23_sum', 'VAR23_prom', 'VAR23_trx', 'VAR25_sum', 'VAR25_prom',\n",
      "       'VAR25_trx', 'VAR4_sum', 'VAR4_prom', 'VAR4_trx', 'VAR3_sum',\n",
      "       'VAR3_prom', 'VAR3_trx', 'VAR29_prom', 'VAR29_ratio', 'VAR1_trx',\n",
      "       'VAR1_prom', 'VAR1_sum', 'VAR24_sum', 'VAR24_trx', 'VAR24_prom',\n",
      "       'VAR17_sum', 'VAR2_trx', 'VAR2_prom', 'VAR2_sum', 'VAR28_sum',\n",
      "       'VAR28_prom', 'VAR28_trx', 'VAR7_trx', 'VAR7_prom', 'VAR7_sum',\n",
      "       'VAR16_sum', 'VAR30_sum', 'VAR8_trx', 'VAR8_prom', 'VAR8_sum',\n",
      "       'VAR27_sum', 'VAR27_prom', 'VAR27_trx', 'VAR26_sum', 'VAR26_prom',\n",
      "       'VAR26_trx', 'VAR6_trx', 'VAR6_prom', 'VAR6_sum', 'VAR10_sum',\n",
      "       'VAR9_prom', 'VAR9_sum', 'VAR9_trx'],\n",
      "      dtype='object')\n",
      "Length 48\n"
     ]
    }
   ],
   "source": [
    "columns_most_nan_values = utils.get_columns_with_nan_values(X_train)\n",
    "\n",
    "print(columns_most_nan_values)\n",
    "print('Length', len(columns_most_nan_values))"
   ]
  },
  {
   "cell_type": "markdown",
   "metadata": {},
   "source": [
    "Removing columns with most of missing value and \"id\" column:"
   ]
  },
  {
   "cell_type": "code",
   "execution_count": 10,
   "metadata": {
    "ExecuteTime": {
     "end_time": "2021-12-20T16:49:11.923299Z",
     "start_time": "2021-12-20T16:49:11.810307Z"
    }
   },
   "outputs": [],
   "source": [
    "X_train.drop(list(columns_most_nan_values)+['id'], axis=1, inplace=True)"
   ]
  },
  {
   "cell_type": "code",
   "execution_count": 11,
   "metadata": {
    "ExecuteTime": {
     "end_time": "2021-12-20T16:49:12.031307Z",
     "start_time": "2021-12-20T16:49:12.026310Z"
    }
   },
   "outputs": [
    {
     "name": "stdout",
     "output_type": "stream",
     "text": [
      "(500768, 19)\n"
     ]
    }
   ],
   "source": [
    "print(X_train.shape)"
   ]
  },
  {
   "cell_type": "markdown",
   "metadata": {},
   "source": [
    "### Encoding"
   ]
  },
  {
   "cell_type": "markdown",
   "metadata": {},
   "source": [
    "Analysis for categorical features:"
   ]
  },
  {
   "cell_type": "code",
   "execution_count": 12,
   "metadata": {
    "ExecuteTime": {
     "end_time": "2021-12-20T16:49:12.727772Z",
     "start_time": "2021-12-20T16:49:12.682762Z"
    }
   },
   "outputs": [
    {
     "data": {
      "text/html": [
       "<div>\n",
       "<style scoped>\n",
       "    .dataframe tbody tr th:only-of-type {\n",
       "        vertical-align: middle;\n",
       "    }\n",
       "\n",
       "    .dataframe tbody tr th {\n",
       "        vertical-align: top;\n",
       "    }\n",
       "\n",
       "    .dataframe thead th {\n",
       "        text-align: right;\n",
       "    }\n",
       "</style>\n",
       "<table border=\"1\" class=\"dataframe\">\n",
       "  <thead>\n",
       "    <tr style=\"text-align: right;\">\n",
       "      <th></th>\n",
       "      <th>tipo_ban</th>\n",
       "      <th>tipo_seg</th>\n",
       "      <th>categoria</th>\n",
       "      <th>tipo_com</th>\n",
       "      <th>tipo_cat</th>\n",
       "      <th>tipo_cli</th>\n",
       "    </tr>\n",
       "  </thead>\n",
       "  <tbody>\n",
       "    <tr>\n",
       "      <th>0</th>\n",
       "      <td>BAN1</td>\n",
       "      <td>NO PROD3</td>\n",
       "      <td>V5</td>\n",
       "      <td>COM4</td>\n",
       "      <td>RUBRO5</td>\n",
       "      <td>CLI1</td>\n",
       "    </tr>\n",
       "    <tr>\n",
       "      <th>1</th>\n",
       "      <td>BAN1</td>\n",
       "      <td>PROD1/PROD4</td>\n",
       "      <td>V2</td>\n",
       "      <td>COM3</td>\n",
       "      <td>RUBRO15</td>\n",
       "      <td>CLI1</td>\n",
       "    </tr>\n",
       "    <tr>\n",
       "      <th>2</th>\n",
       "      <td>BAN1</td>\n",
       "      <td>NO PROD3</td>\n",
       "      <td>V3</td>\n",
       "      <td>COM4</td>\n",
       "      <td>RUBRO8</td>\n",
       "      <td>CLI1</td>\n",
       "    </tr>\n",
       "    <tr>\n",
       "      <th>3</th>\n",
       "      <td>BAN1</td>\n",
       "      <td>PROD1</td>\n",
       "      <td>V4</td>\n",
       "      <td>COM2</td>\n",
       "      <td>RUBRO5</td>\n",
       "      <td>CLI1</td>\n",
       "    </tr>\n",
       "    <tr>\n",
       "      <th>4</th>\n",
       "      <td>BAN1</td>\n",
       "      <td>NO PROD3</td>\n",
       "      <td>V2</td>\n",
       "      <td>COM4</td>\n",
       "      <td>RUBRO5</td>\n",
       "      <td>CLI1</td>\n",
       "    </tr>\n",
       "  </tbody>\n",
       "</table>\n",
       "</div>"
      ],
      "text/plain": [
       "  tipo_ban     tipo_seg categoria tipo_com tipo_cat tipo_cli\n",
       "0     BAN1     NO PROD3        V5     COM4   RUBRO5     CLI1\n",
       "1     BAN1  PROD1/PROD4        V2     COM3  RUBRO15     CLI1\n",
       "2     BAN1     NO PROD3        V3     COM4   RUBRO8     CLI1\n",
       "3     BAN1        PROD1        V4     COM2   RUBRO5     CLI1\n",
       "4     BAN1     NO PROD3        V2     COM4   RUBRO5     CLI1"
      ]
     },
     "execution_count": 12,
     "metadata": {},
     "output_type": "execute_result"
    }
   ],
   "source": [
    "X_train.select_dtypes('object').head()"
   ]
  },
  {
   "cell_type": "markdown",
   "metadata": {},
   "source": [
    "The feature ```categoria``` looks like categorical ordinal since it refers to levels, the other categories can be encoded with one hot encodert."
   ]
  },
  {
   "cell_type": "markdown",
   "metadata": {
    "ExecuteTime": {
     "end_time": "2021-12-16T03:31:20.407708Z",
     "start_time": "2021-12-16T03:31:20.402723Z"
    }
   },
   "source": [
    "#### Encoding ```categoria```"
   ]
  },
  {
   "cell_type": "code",
   "execution_count": 13,
   "metadata": {
    "ExecuteTime": {
     "end_time": "2021-12-20T16:49:13.660390Z",
     "start_time": "2021-12-20T16:49:13.489395Z"
    }
   },
   "outputs": [],
   "source": [
    "encoder_categoria = OrdinalEncoder(handle_unknown='use_encoded_value', unknown_value=-1, dtype='int8')\n",
    "X_train['categoria'] = encoder_categoria.fit_transform(X_train[['categoria']])"
   ]
  },
  {
   "cell_type": "markdown",
   "metadata": {
    "ExecuteTime": {
     "end_time": "2021-12-16T04:35:52.600100Z",
     "start_time": "2021-12-16T04:35:52.578069Z"
    }
   },
   "source": [
    "#### Encoding rest of categories"
   ]
  },
  {
   "cell_type": "code",
   "execution_count": 14,
   "metadata": {
    "ExecuteTime": {
     "end_time": "2021-12-20T16:49:15.333992Z",
     "start_time": "2021-12-20T16:49:15.329991Z"
    }
   },
   "outputs": [],
   "source": [
    "encoder_features = OneHotEncoder(handle_unknown='ignore', sparse=False, dtype='int8')"
   ]
  },
  {
   "cell_type": "code",
   "execution_count": 15,
   "metadata": {
    "ExecuteTime": {
     "end_time": "2021-12-20T16:49:16.346347Z",
     "start_time": "2021-12-20T16:49:15.531502Z"
    }
   },
   "outputs": [],
   "source": [
    "df_categorical = X_train.select_dtypes('object')\n",
    "\n",
    "df_encoded_features = pd.DataFrame(encoder_features.fit_transform(df_categorical), \n",
    "                                   columns=encoder_features.get_feature_names_out())"
   ]
  },
  {
   "cell_type": "code",
   "execution_count": 16,
   "metadata": {
    "ExecuteTime": {
     "end_time": "2021-12-20T16:49:16.409317Z",
     "start_time": "2021-12-20T16:49:16.348310Z"
    }
   },
   "outputs": [],
   "source": [
    "X_train.drop(df_categorical.columns, axis=1, inplace=True)"
   ]
  },
  {
   "cell_type": "code",
   "execution_count": 17,
   "metadata": {
    "ExecuteTime": {
     "end_time": "2021-12-20T16:49:16.422321Z",
     "start_time": "2021-12-20T16:49:16.412308Z"
    }
   },
   "outputs": [
    {
     "name": "stdout",
     "output_type": "stream",
     "text": [
      "Before concat() (500768, 14)\n"
     ]
    }
   ],
   "source": [
    "print('Before concat()', X_train.shape)"
   ]
  },
  {
   "cell_type": "code",
   "execution_count": 18,
   "metadata": {
    "ExecuteTime": {
     "end_time": "2021-12-20T16:49:16.597343Z",
     "start_time": "2021-12-20T16:49:16.425335Z"
    }
   },
   "outputs": [],
   "source": [
    "X_train = pd.concat([X_train, df_encoded_features], axis=1)"
   ]
  },
  {
   "cell_type": "code",
   "execution_count": 19,
   "metadata": {
    "ExecuteTime": {
     "end_time": "2021-12-20T16:49:17.169162Z",
     "start_time": "2021-12-20T16:49:17.163164Z"
    }
   },
   "outputs": [
    {
     "name": "stdout",
     "output_type": "stream",
     "text": [
      "After concat() (500768, 62)\n"
     ]
    }
   ],
   "source": [
    "print('After concat()', X_train.shape)"
   ]
  },
  {
   "cell_type": "markdown",
   "metadata": {},
   "source": [
    "Checking for non-existing categorical features:"
   ]
  },
  {
   "cell_type": "code",
   "execution_count": 20,
   "metadata": {
    "ExecuteTime": {
     "end_time": "2021-12-20T16:49:17.528088Z",
     "start_time": "2021-12-20T16:49:17.523120Z"
    }
   },
   "outputs": [
    {
     "name": "stdout",
     "output_type": "stream",
     "text": [
      "Categorical features 0\n"
     ]
    }
   ],
   "source": [
    "print('Categorical features', (X_train.dtypes=='object').sum())"
   ]
  },
  {
   "cell_type": "markdown",
   "metadata": {},
   "source": [
    "### Correlations"
   ]
  },
  {
   "cell_type": "code",
   "execution_count": 21,
   "metadata": {
    "ExecuteTime": {
     "end_time": "2021-12-20T16:49:22.430642Z",
     "start_time": "2021-12-20T16:49:17.906785Z"
    }
   },
   "outputs": [
    {
     "name": "stdout",
     "output_type": "stream",
     "text": [
      "['VAR13_sum', 'VAR15_sum', 'tipo_com_COM1', 'tipo_com_COM2', 'tipo_com_COM4', 'tipo_com_COM5', 'tipo_cli_CLI2']\n"
     ]
    }
   ],
   "source": [
    "corr_features = utils.get_high_correlated_features(X_train, 'float64') + utils.get_high_correlated_features(X_train, 'int8')\n",
    "print(corr_features)"
   ]
  },
  {
   "cell_type": "code",
   "execution_count": 22,
   "metadata": {
    "ExecuteTime": {
     "end_time": "2021-12-20T16:49:22.542608Z",
     "start_time": "2021-12-20T16:49:22.432611Z"
    }
   },
   "outputs": [],
   "source": [
    "X_train.drop(corr_features, axis=1, inplace=True)"
   ]
  },
  {
   "cell_type": "markdown",
   "metadata": {},
   "source": [
    "### Imputing missing values"
   ]
  },
  {
   "cell_type": "markdown",
   "metadata": {},
   "source": [
    "Current missing values:"
   ]
  },
  {
   "cell_type": "code",
   "execution_count": 23,
   "metadata": {
    "ExecuteTime": {
     "end_time": "2021-12-20T16:49:22.616641Z",
     "start_time": "2021-12-20T16:49:22.544607Z"
    }
   },
   "outputs": [
    {
     "name": "stdout",
     "output_type": "stream",
     "text": [
      "VAR5_sum     129303\n",
      "VAR5_prom    129303\n",
      "VAR5_trx     129303\n",
      "VAR11_sum     37253\n",
      "VAR12_sum     37253\n",
      "VAR14_sum     37253\n",
      "VAR18_sum     37253\n",
      "VAR19_sum     37253\n",
      "VAR20_sum     37253\n",
      "VAR21_sum     37253\n",
      "VAR22_sum     37253\n",
      "dtype: int64\n"
     ]
    }
   ],
   "source": [
    "train_nan = X_train.isna().sum()\n",
    "train_nan = train_nan[train_nan>0]\n",
    "print(train_nan)"
   ]
  },
  {
   "cell_type": "markdown",
   "metadata": {},
   "source": [
    "Creating model to fit and transform based on an estimator:"
   ]
  },
  {
   "cell_type": "code",
   "execution_count": 24,
   "metadata": {
    "ExecuteTime": {
     "end_time": "2021-12-20T16:54:30.347894Z",
     "start_time": "2021-12-20T16:49:22.835256Z"
    }
   },
   "outputs": [
    {
     "name": "stdout",
     "output_type": "stream",
     "text": [
      "[IterativeImputer] Completing matrix with shape (500768, 55)\n",
      "[IterativeImputer] Ending imputation round 1/1, elapsed time 304.95\n",
      "[IterativeImputer] Change: 37843880603.2147, scaled tolerance: 38116777.491000004 \n"
     ]
    },
    {
     "name": "stderr",
     "output_type": "stream",
     "text": [
      "C:\\Users\\Erick\\anaconda3\\envs\\bci-env\\lib\\site-packages\\sklearn\\impute\\_iterative.py:699: ConvergenceWarning: [IterativeImputer] Early stopping criterion not reached.\n",
      "  warnings.warn(\n"
     ]
    },
    {
     "name": "stdout",
     "output_type": "stream",
     "text": [
      "Wall time: 5min 7s\n"
     ]
    }
   ],
   "source": [
    "%%time\n",
    "\n",
    "iterativeImputer = IterativeImputer(\n",
    "                        estimator=DecisionTreeRegressor(random_state=SEED),\n",
    "                        random_state=SEED, \n",
    "                        verbose=2, \n",
    "                        max_iter=1\n",
    "                    )\n",
    "\n",
    "train_imputed = iterativeImputer.fit_transform(X_train)"
   ]
  },
  {
   "cell_type": "markdown",
   "metadata": {},
   "source": [
    "**Assert**: If train dataset without imputation does not contain negative values, then imputed dataset should not also contain them either"
   ]
  },
  {
   "cell_type": "code",
   "execution_count": 25,
   "metadata": {
    "ExecuteTime": {
     "end_time": "2021-12-20T16:54:30.507892Z",
     "start_time": "2021-12-20T16:54:30.350891Z"
    }
   },
   "outputs": [],
   "source": [
    "assert (train_imputed<0).sum().sum() == (X_train<0).sum().sum(), 'Make sure the estimator used in iterative imputer predict positive values'"
   ]
  },
  {
   "cell_type": "code",
   "execution_count": 26,
   "metadata": {
    "ExecuteTime": {
     "end_time": "2021-12-20T16:54:30.667995Z",
     "start_time": "2021-12-20T16:54:30.508890Z"
    }
   },
   "outputs": [],
   "source": [
    "X_train_imputed = pd.DataFrame(train_imputed, columns=X_train.columns)\n",
    "\n",
    "X_train_imputed['categoria'] = X_train_imputed['categoria'].astype('int8')"
   ]
  },
  {
   "cell_type": "code",
   "execution_count": 27,
   "metadata": {
    "ExecuteTime": {
     "end_time": "2021-12-20T16:54:30.697926Z",
     "start_time": "2021-12-20T16:54:30.670893Z"
    }
   },
   "outputs": [
    {
     "data": {
      "text/html": [
       "<div>\n",
       "<style scoped>\n",
       "    .dataframe tbody tr th:only-of-type {\n",
       "        vertical-align: middle;\n",
       "    }\n",
       "\n",
       "    .dataframe tbody tr th {\n",
       "        vertical-align: top;\n",
       "    }\n",
       "\n",
       "    .dataframe thead th {\n",
       "        text-align: right;\n",
       "    }\n",
       "</style>\n",
       "<table border=\"1\" class=\"dataframe\">\n",
       "  <thead>\n",
       "    <tr style=\"text-align: right;\">\n",
       "      <th></th>\n",
       "      <th>categoria</th>\n",
       "      <th>VAR5_sum</th>\n",
       "      <th>VAR5_prom</th>\n",
       "      <th>VAR5_trx</th>\n",
       "      <th>VAR11_sum</th>\n",
       "      <th>VAR12_sum</th>\n",
       "      <th>VAR14_sum</th>\n",
       "      <th>VAR18_sum</th>\n",
       "      <th>VAR19_sum</th>\n",
       "      <th>VAR20_sum</th>\n",
       "      <th>...</th>\n",
       "      <th>tipo_cat_RUBRO20</th>\n",
       "      <th>tipo_cat_RUBRO21</th>\n",
       "      <th>tipo_cat_RUBRO3</th>\n",
       "      <th>tipo_cat_RUBRO4</th>\n",
       "      <th>tipo_cat_RUBRO5</th>\n",
       "      <th>tipo_cat_RUBRO6</th>\n",
       "      <th>tipo_cat_RUBRO7</th>\n",
       "      <th>tipo_cat_RUBRO8</th>\n",
       "      <th>tipo_cat_RUBRO9</th>\n",
       "      <th>tipo_cli_CLI1</th>\n",
       "    </tr>\n",
       "  </thead>\n",
       "  <tbody>\n",
       "    <tr>\n",
       "      <th>0</th>\n",
       "      <td>4</td>\n",
       "      <td>180519180.0</td>\n",
       "      <td>3630612.678</td>\n",
       "      <td>39.0</td>\n",
       "      <td>296921717.0</td>\n",
       "      <td>296921717.0</td>\n",
       "      <td>0.0</td>\n",
       "      <td>0.0</td>\n",
       "      <td>0.0</td>\n",
       "      <td>0.0</td>\n",
       "      <td>...</td>\n",
       "      <td>0.0</td>\n",
       "      <td>0.0</td>\n",
       "      <td>0.0</td>\n",
       "      <td>0.0</td>\n",
       "      <td>1.0</td>\n",
       "      <td>0.0</td>\n",
       "      <td>0.0</td>\n",
       "      <td>0.0</td>\n",
       "      <td>0.0</td>\n",
       "      <td>1.0</td>\n",
       "    </tr>\n",
       "    <tr>\n",
       "      <th>1</th>\n",
       "      <td>1</td>\n",
       "      <td>62090140.0</td>\n",
       "      <td>2869571.111</td>\n",
       "      <td>16.0</td>\n",
       "      <td>223154.0</td>\n",
       "      <td>0.0</td>\n",
       "      <td>0.0</td>\n",
       "      <td>0.0</td>\n",
       "      <td>0.0</td>\n",
       "      <td>0.0</td>\n",
       "      <td>...</td>\n",
       "      <td>0.0</td>\n",
       "      <td>0.0</td>\n",
       "      <td>0.0</td>\n",
       "      <td>0.0</td>\n",
       "      <td>0.0</td>\n",
       "      <td>0.0</td>\n",
       "      <td>0.0</td>\n",
       "      <td>0.0</td>\n",
       "      <td>0.0</td>\n",
       "      <td>1.0</td>\n",
       "    </tr>\n",
       "    <tr>\n",
       "      <th>2</th>\n",
       "      <td>2</td>\n",
       "      <td>70000.0</td>\n",
       "      <td>70000.000</td>\n",
       "      <td>1.0</td>\n",
       "      <td>0.0</td>\n",
       "      <td>0.0</td>\n",
       "      <td>0.0</td>\n",
       "      <td>0.0</td>\n",
       "      <td>0.0</td>\n",
       "      <td>0.0</td>\n",
       "      <td>...</td>\n",
       "      <td>0.0</td>\n",
       "      <td>0.0</td>\n",
       "      <td>0.0</td>\n",
       "      <td>0.0</td>\n",
       "      <td>0.0</td>\n",
       "      <td>0.0</td>\n",
       "      <td>0.0</td>\n",
       "      <td>1.0</td>\n",
       "      <td>0.0</td>\n",
       "      <td>1.0</td>\n",
       "    </tr>\n",
       "    <tr>\n",
       "      <th>3</th>\n",
       "      <td>3</td>\n",
       "      <td>27159736.0</td>\n",
       "      <td>1044547.756</td>\n",
       "      <td>27.0</td>\n",
       "      <td>3341946.0</td>\n",
       "      <td>0.0</td>\n",
       "      <td>0.0</td>\n",
       "      <td>0.0</td>\n",
       "      <td>0.0</td>\n",
       "      <td>0.0</td>\n",
       "      <td>...</td>\n",
       "      <td>0.0</td>\n",
       "      <td>0.0</td>\n",
       "      <td>0.0</td>\n",
       "      <td>0.0</td>\n",
       "      <td>1.0</td>\n",
       "      <td>0.0</td>\n",
       "      <td>0.0</td>\n",
       "      <td>0.0</td>\n",
       "      <td>0.0</td>\n",
       "      <td>1.0</td>\n",
       "    </tr>\n",
       "    <tr>\n",
       "      <th>4</th>\n",
       "      <td>1</td>\n",
       "      <td>9639920.0</td>\n",
       "      <td>1606653.333</td>\n",
       "      <td>6.0</td>\n",
       "      <td>0.0</td>\n",
       "      <td>0.0</td>\n",
       "      <td>0.0</td>\n",
       "      <td>0.0</td>\n",
       "      <td>0.0</td>\n",
       "      <td>0.0</td>\n",
       "      <td>...</td>\n",
       "      <td>0.0</td>\n",
       "      <td>0.0</td>\n",
       "      <td>0.0</td>\n",
       "      <td>0.0</td>\n",
       "      <td>1.0</td>\n",
       "      <td>0.0</td>\n",
       "      <td>0.0</td>\n",
       "      <td>0.0</td>\n",
       "      <td>0.0</td>\n",
       "      <td>1.0</td>\n",
       "    </tr>\n",
       "  </tbody>\n",
       "</table>\n",
       "<p>5 rows × 55 columns</p>\n",
       "</div>"
      ],
      "text/plain": [
       "   categoria     VAR5_sum    VAR5_prom  VAR5_trx    VAR11_sum    VAR12_sum  \\\n",
       "0          4  180519180.0  3630612.678      39.0  296921717.0  296921717.0   \n",
       "1          1   62090140.0  2869571.111      16.0     223154.0          0.0   \n",
       "2          2      70000.0    70000.000       1.0          0.0          0.0   \n",
       "3          3   27159736.0  1044547.756      27.0    3341946.0          0.0   \n",
       "4          1    9639920.0  1606653.333       6.0          0.0          0.0   \n",
       "\n",
       "   VAR14_sum  VAR18_sum  VAR19_sum  VAR20_sum  ...  tipo_cat_RUBRO20  \\\n",
       "0        0.0        0.0        0.0        0.0  ...               0.0   \n",
       "1        0.0        0.0        0.0        0.0  ...               0.0   \n",
       "2        0.0        0.0        0.0        0.0  ...               0.0   \n",
       "3        0.0        0.0        0.0        0.0  ...               0.0   \n",
       "4        0.0        0.0        0.0        0.0  ...               0.0   \n",
       "\n",
       "   tipo_cat_RUBRO21  tipo_cat_RUBRO3  tipo_cat_RUBRO4  tipo_cat_RUBRO5  \\\n",
       "0               0.0              0.0              0.0              1.0   \n",
       "1               0.0              0.0              0.0              0.0   \n",
       "2               0.0              0.0              0.0              0.0   \n",
       "3               0.0              0.0              0.0              1.0   \n",
       "4               0.0              0.0              0.0              1.0   \n",
       "\n",
       "   tipo_cat_RUBRO6  tipo_cat_RUBRO7  tipo_cat_RUBRO8  tipo_cat_RUBRO9  \\\n",
       "0              0.0              0.0              0.0              0.0   \n",
       "1              0.0              0.0              0.0              0.0   \n",
       "2              0.0              0.0              1.0              0.0   \n",
       "3              0.0              0.0              0.0              0.0   \n",
       "4              0.0              0.0              0.0              0.0   \n",
       "\n",
       "   tipo_cli_CLI1  \n",
       "0            1.0  \n",
       "1            1.0  \n",
       "2            1.0  \n",
       "3            1.0  \n",
       "4            1.0  \n",
       "\n",
       "[5 rows x 55 columns]"
      ]
     },
     "execution_count": 27,
     "metadata": {},
     "output_type": "execute_result"
    }
   ],
   "source": [
    "X_train_imputed.head()"
   ]
  },
  {
   "cell_type": "markdown",
   "metadata": {},
   "source": [
    "## Exporting assets"
   ]
  },
  {
   "cell_type": "markdown",
   "metadata": {},
   "source": [
    "### Preprocessed datasets"
   ]
  },
  {
   "cell_type": "code",
   "execution_count": 28,
   "metadata": {
    "ExecuteTime": {
     "end_time": "2021-12-20T16:54:46.439215Z",
     "start_time": "2021-12-20T16:54:30.699898Z"
    }
   },
   "outputs": [],
   "source": [
    "X_train_imputed.to_csv('../data/preprocessed/X_train_preprocessed.csv', index=False)"
   ]
  },
  {
   "cell_type": "markdown",
   "metadata": {},
   "source": [
    "### Preprocessing objects"
   ]
  },
  {
   "cell_type": "code",
   "execution_count": 29,
   "metadata": {
    "ExecuteTime": {
     "end_time": "2021-12-20T16:54:46.913096Z",
     "start_time": "2021-12-20T16:54:46.441227Z"
    }
   },
   "outputs": [],
   "source": [
    "dump(encoder_categoria, open(PATH_OBJECTS_PREPROCESSING+'encoder_categoria.pkl', 'wb'))\n",
    "dump(encoder_features, open(PATH_OBJECTS_PREPROCESSING+'encoder_features.pkl', 'wb'))\n",
    "dump(iterativeImputer, open(PATH_OBJECTS_PREPROCESSING+'iterativeImputer.pkl', 'wb'))"
   ]
  },
  {
   "cell_type": "markdown",
   "metadata": {},
   "source": [
    "## Importing resources"
   ]
  },
  {
   "cell_type": "markdown",
   "metadata": {},
   "source": [
    "### Datasets"
   ]
  },
  {
   "cell_type": "code",
   "execution_count": 8,
   "metadata": {
    "ExecuteTime": {
     "end_time": "2021-12-20T17:52:20.486304Z",
     "start_time": "2021-12-20T17:52:17.611280Z"
    }
   },
   "outputs": [],
   "source": [
    "saved_X_train = pd.read_csv('../data/preprocessed/X_train_preprocessed.csv')"
   ]
  },
  {
   "cell_type": "code",
   "execution_count": 9,
   "metadata": {
    "ExecuteTime": {
     "end_time": "2021-12-20T17:52:20.545271Z",
     "start_time": "2021-12-20T17:52:20.488271Z"
    }
   },
   "outputs": [
    {
     "data": {
      "text/html": [
       "<div>\n",
       "<style scoped>\n",
       "    .dataframe tbody tr th:only-of-type {\n",
       "        vertical-align: middle;\n",
       "    }\n",
       "\n",
       "    .dataframe tbody tr th {\n",
       "        vertical-align: top;\n",
       "    }\n",
       "\n",
       "    .dataframe thead th {\n",
       "        text-align: right;\n",
       "    }\n",
       "</style>\n",
       "<table border=\"1\" class=\"dataframe\">\n",
       "  <thead>\n",
       "    <tr style=\"text-align: right;\">\n",
       "      <th></th>\n",
       "      <th>categoria</th>\n",
       "      <th>VAR5_sum</th>\n",
       "      <th>VAR5_prom</th>\n",
       "      <th>VAR5_trx</th>\n",
       "      <th>VAR11_sum</th>\n",
       "      <th>VAR12_sum</th>\n",
       "      <th>VAR14_sum</th>\n",
       "      <th>VAR18_sum</th>\n",
       "      <th>VAR19_sum</th>\n",
       "      <th>VAR20_sum</th>\n",
       "      <th>...</th>\n",
       "      <th>tipo_cat_RUBRO20</th>\n",
       "      <th>tipo_cat_RUBRO21</th>\n",
       "      <th>tipo_cat_RUBRO3</th>\n",
       "      <th>tipo_cat_RUBRO4</th>\n",
       "      <th>tipo_cat_RUBRO5</th>\n",
       "      <th>tipo_cat_RUBRO6</th>\n",
       "      <th>tipo_cat_RUBRO7</th>\n",
       "      <th>tipo_cat_RUBRO8</th>\n",
       "      <th>tipo_cat_RUBRO9</th>\n",
       "      <th>tipo_cli_CLI1</th>\n",
       "    </tr>\n",
       "  </thead>\n",
       "  <tbody>\n",
       "    <tr>\n",
       "      <th>0</th>\n",
       "      <td>4</td>\n",
       "      <td>180519180.0</td>\n",
       "      <td>3630612.678</td>\n",
       "      <td>39.0</td>\n",
       "      <td>296921717.0</td>\n",
       "      <td>296921717.0</td>\n",
       "      <td>0.0</td>\n",
       "      <td>0.0</td>\n",
       "      <td>0.0</td>\n",
       "      <td>0.0</td>\n",
       "      <td>...</td>\n",
       "      <td>0.0</td>\n",
       "      <td>0.0</td>\n",
       "      <td>0.0</td>\n",
       "      <td>0.0</td>\n",
       "      <td>1.0</td>\n",
       "      <td>0.0</td>\n",
       "      <td>0.0</td>\n",
       "      <td>0.0</td>\n",
       "      <td>0.0</td>\n",
       "      <td>1.0</td>\n",
       "    </tr>\n",
       "    <tr>\n",
       "      <th>1</th>\n",
       "      <td>1</td>\n",
       "      <td>62090140.0</td>\n",
       "      <td>2869571.111</td>\n",
       "      <td>16.0</td>\n",
       "      <td>223154.0</td>\n",
       "      <td>0.0</td>\n",
       "      <td>0.0</td>\n",
       "      <td>0.0</td>\n",
       "      <td>0.0</td>\n",
       "      <td>0.0</td>\n",
       "      <td>...</td>\n",
       "      <td>0.0</td>\n",
       "      <td>0.0</td>\n",
       "      <td>0.0</td>\n",
       "      <td>0.0</td>\n",
       "      <td>0.0</td>\n",
       "      <td>0.0</td>\n",
       "      <td>0.0</td>\n",
       "      <td>0.0</td>\n",
       "      <td>0.0</td>\n",
       "      <td>1.0</td>\n",
       "    </tr>\n",
       "    <tr>\n",
       "      <th>2</th>\n",
       "      <td>2</td>\n",
       "      <td>70000.0</td>\n",
       "      <td>70000.000</td>\n",
       "      <td>1.0</td>\n",
       "      <td>0.0</td>\n",
       "      <td>0.0</td>\n",
       "      <td>0.0</td>\n",
       "      <td>0.0</td>\n",
       "      <td>0.0</td>\n",
       "      <td>0.0</td>\n",
       "      <td>...</td>\n",
       "      <td>0.0</td>\n",
       "      <td>0.0</td>\n",
       "      <td>0.0</td>\n",
       "      <td>0.0</td>\n",
       "      <td>0.0</td>\n",
       "      <td>0.0</td>\n",
       "      <td>0.0</td>\n",
       "      <td>1.0</td>\n",
       "      <td>0.0</td>\n",
       "      <td>1.0</td>\n",
       "    </tr>\n",
       "    <tr>\n",
       "      <th>3</th>\n",
       "      <td>3</td>\n",
       "      <td>27159736.0</td>\n",
       "      <td>1044547.756</td>\n",
       "      <td>27.0</td>\n",
       "      <td>3341946.0</td>\n",
       "      <td>0.0</td>\n",
       "      <td>0.0</td>\n",
       "      <td>0.0</td>\n",
       "      <td>0.0</td>\n",
       "      <td>0.0</td>\n",
       "      <td>...</td>\n",
       "      <td>0.0</td>\n",
       "      <td>0.0</td>\n",
       "      <td>0.0</td>\n",
       "      <td>0.0</td>\n",
       "      <td>1.0</td>\n",
       "      <td>0.0</td>\n",
       "      <td>0.0</td>\n",
       "      <td>0.0</td>\n",
       "      <td>0.0</td>\n",
       "      <td>1.0</td>\n",
       "    </tr>\n",
       "    <tr>\n",
       "      <th>4</th>\n",
       "      <td>1</td>\n",
       "      <td>9639920.0</td>\n",
       "      <td>1606653.333</td>\n",
       "      <td>6.0</td>\n",
       "      <td>0.0</td>\n",
       "      <td>0.0</td>\n",
       "      <td>0.0</td>\n",
       "      <td>0.0</td>\n",
       "      <td>0.0</td>\n",
       "      <td>0.0</td>\n",
       "      <td>...</td>\n",
       "      <td>0.0</td>\n",
       "      <td>0.0</td>\n",
       "      <td>0.0</td>\n",
       "      <td>0.0</td>\n",
       "      <td>1.0</td>\n",
       "      <td>0.0</td>\n",
       "      <td>0.0</td>\n",
       "      <td>0.0</td>\n",
       "      <td>0.0</td>\n",
       "      <td>1.0</td>\n",
       "    </tr>\n",
       "  </tbody>\n",
       "</table>\n",
       "<p>5 rows × 55 columns</p>\n",
       "</div>"
      ],
      "text/plain": [
       "   categoria     VAR5_sum    VAR5_prom  VAR5_trx    VAR11_sum    VAR12_sum  \\\n",
       "0          4  180519180.0  3630612.678      39.0  296921717.0  296921717.0   \n",
       "1          1   62090140.0  2869571.111      16.0     223154.0          0.0   \n",
       "2          2      70000.0    70000.000       1.0          0.0          0.0   \n",
       "3          3   27159736.0  1044547.756      27.0    3341946.0          0.0   \n",
       "4          1    9639920.0  1606653.333       6.0          0.0          0.0   \n",
       "\n",
       "   VAR14_sum  VAR18_sum  VAR19_sum  VAR20_sum  ...  tipo_cat_RUBRO20  \\\n",
       "0        0.0        0.0        0.0        0.0  ...               0.0   \n",
       "1        0.0        0.0        0.0        0.0  ...               0.0   \n",
       "2        0.0        0.0        0.0        0.0  ...               0.0   \n",
       "3        0.0        0.0        0.0        0.0  ...               0.0   \n",
       "4        0.0        0.0        0.0        0.0  ...               0.0   \n",
       "\n",
       "   tipo_cat_RUBRO21  tipo_cat_RUBRO3  tipo_cat_RUBRO4  tipo_cat_RUBRO5  \\\n",
       "0               0.0              0.0              0.0              1.0   \n",
       "1               0.0              0.0              0.0              0.0   \n",
       "2               0.0              0.0              0.0              0.0   \n",
       "3               0.0              0.0              0.0              1.0   \n",
       "4               0.0              0.0              0.0              1.0   \n",
       "\n",
       "   tipo_cat_RUBRO6  tipo_cat_RUBRO7  tipo_cat_RUBRO8  tipo_cat_RUBRO9  \\\n",
       "0              0.0              0.0              0.0              0.0   \n",
       "1              0.0              0.0              0.0              0.0   \n",
       "2              0.0              0.0              1.0              0.0   \n",
       "3              0.0              0.0              0.0              0.0   \n",
       "4              0.0              0.0              0.0              0.0   \n",
       "\n",
       "   tipo_cli_CLI1  \n",
       "0            1.0  \n",
       "1            1.0  \n",
       "2            1.0  \n",
       "3            1.0  \n",
       "4            1.0  \n",
       "\n",
       "[5 rows x 55 columns]"
      ]
     },
     "execution_count": 9,
     "metadata": {},
     "output_type": "execute_result"
    }
   ],
   "source": [
    "saved_X_train.head()"
   ]
  },
  {
   "cell_type": "markdown",
   "metadata": {
    "ExecuteTime": {
     "end_time": "2021-12-18T05:07:18.494208Z",
     "start_time": "2021-12-18T05:07:18.490224Z"
    }
   },
   "source": [
    "### Objects"
   ]
  },
  {
   "cell_type": "code",
   "execution_count": 8,
   "metadata": {
    "ExecuteTime": {
     "end_time": "2021-12-20T17:58:45.410303Z",
     "start_time": "2021-12-20T17:58:44.684631Z"
    }
   },
   "outputs": [],
   "source": [
    "saved_encoder_categoria = load(open(PATH_OBJECTS_PREPROCESSING+'encoder_categoria.pkl', 'rb'))\n",
    "saved_encoder_features  = load(open(PATH_OBJECTS_PREPROCESSING+'encoder_features.pkl', 'rb'))\n",
    "saved_iterativeImputer  = load(open(PATH_OBJECTS_PREPROCESSING+'iterativeImputer.pkl', 'rb'))"
   ]
  },
  {
   "cell_type": "markdown",
   "metadata": {},
   "source": [
    "## Pipeline Preprocessing"
   ]
  },
  {
   "cell_type": "code",
   "execution_count": 9,
   "metadata": {
    "ExecuteTime": {
     "end_time": "2021-12-20T17:58:46.336532Z",
     "start_time": "2021-12-20T17:58:46.324508Z"
    }
   },
   "outputs": [],
   "source": [
    "def preprocess_data(df_test):\n",
    "    X_test_copy = df_test    \n",
    "    X_test_copy.reset_index(inplace=True, drop=True)\n",
    "    \n",
    "    # Transforming mes feature\n",
    "    X_test_copy.drop('mes', axis=1, inplace=True)\n",
    "    \n",
    "    # Dropping features with missing values\n",
    "    columns_most_nan_values = utils.get_columns_with_nan_values(X_test_copy)\n",
    "    X_test_copy.drop(list(columns_most_nan_values)+['id'], axis=1, inplace=True)\n",
    "    \n",
    "    # Encoding categoria feature\n",
    "    X_test_copy['categoria'] = saved_encoder_categoria.transform(X_test_copy[['categoria']])\n",
    "    \n",
    "    # Encoding other features\n",
    "    df_categorical_test = X_test_copy.select_dtypes('object')\n",
    "\n",
    "    df_features_test = pd.DataFrame(saved_encoder_features.transform(df_categorical_test), \n",
    "                                   columns=saved_encoder_features.get_feature_names_out())\n",
    "    X_test_copy.drop(df_categorical_test.columns, axis=1, inplace=True)\n",
    "    X_test_copy = pd.concat([X_test_copy, df_features_test], axis=1)\n",
    "\n",
    "    # Correlations\n",
    "    corr_features = utils.get_high_correlated_features(X_test_copy, 'float64') + utils.get_high_correlated_features(X_test_copy, 'int8')\n",
    "    X_test_copy.drop(corr_features, axis=1, inplace=True)\n",
    "    \n",
    "    # Imputing missing values\n",
    "    \n",
    "    data_imputed = saved_iterativeImputer.transform(X_test_copy) \n",
    "    X_test_imputed = pd.DataFrame(data_imputed, columns=X_test_copy.columns)\n",
    "    X_test_imputed['categoria'] = X_test_imputed['categoria'].astype('int8')\n",
    "    \n",
    "    return X_test_imputed"
   ]
  },
  {
   "cell_type": "code",
   "execution_count": 12,
   "metadata": {
    "ExecuteTime": {
     "end_time": "2021-12-20T17:52:24.709602Z",
     "start_time": "2021-12-20T17:52:21.265214Z"
    }
   },
   "outputs": [
    {
     "name": "stdout",
     "output_type": "stream",
     "text": [
      "[IterativeImputer] Completing matrix with shape (166923, 55)\n",
      "[IterativeImputer] Ending imputation round 1/1, elapsed time 0.87\n"
     ]
    }
   ],
   "source": [
    "X_test_copy = preprocess_data(X_test)"
   ]
  },
  {
   "cell_type": "code",
   "execution_count": 13,
   "metadata": {
    "ExecuteTime": {
     "end_time": "2021-12-20T17:52:24.718621Z",
     "start_time": "2021-12-20T17:52:24.712607Z"
    }
   },
   "outputs": [
    {
     "name": "stdout",
     "output_type": "stream",
     "text": [
      "(166923, 55)\n"
     ]
    }
   ],
   "source": [
    "print(X_test_copy.shape)"
   ]
  },
  {
   "cell_type": "markdown",
   "metadata": {},
   "source": [
    "## Model"
   ]
  },
  {
   "cell_type": "markdown",
   "metadata": {},
   "source": [
    "### Training"
   ]
  },
  {
   "cell_type": "code",
   "execution_count": 14,
   "metadata": {
    "ExecuteTime": {
     "end_time": "2021-12-20T17:52:24.727605Z",
     "start_time": "2021-12-20T17:52:24.720611Z"
    }
   },
   "outputs": [],
   "source": [
    "model = RandomForestRegressor(verbose=1, random_state=SEED, n_jobs=mp.cpu_count())"
   ]
  },
  {
   "cell_type": "code",
   "execution_count": 15,
   "metadata": {
    "ExecuteTime": {
     "end_time": "2021-12-20T17:57:20.110292Z",
     "start_time": "2021-12-20T17:52:24.730605Z"
    }
   },
   "outputs": [
    {
     "name": "stderr",
     "output_type": "stream",
     "text": [
      "[Parallel(n_jobs=8)]: Using backend ThreadingBackend with 8 concurrent workers.\n",
      "[Parallel(n_jobs=8)]: Done  34 tasks      | elapsed:  1.9min\n"
     ]
    },
    {
     "name": "stdout",
     "output_type": "stream",
     "text": [
      "Wall time: 4min 55s\n"
     ]
    },
    {
     "name": "stderr",
     "output_type": "stream",
     "text": [
      "[Parallel(n_jobs=8)]: Done 100 out of 100 | elapsed:  4.9min finished\n"
     ]
    },
    {
     "data": {
      "text/plain": [
       "RandomForestRegressor(n_jobs=8, random_state=42, verbose=1)"
      ]
     },
     "execution_count": 15,
     "metadata": {},
     "output_type": "execute_result"
    }
   ],
   "source": [
    "%%time\n",
    "model.fit(saved_X_train, y_train)"
   ]
  },
  {
   "cell_type": "markdown",
   "metadata": {},
   "source": [
    "### Evaluating"
   ]
  },
  {
   "cell_type": "code",
   "execution_count": 16,
   "metadata": {
    "ExecuteTime": {
     "end_time": "2021-12-20T17:57:20.138294Z",
     "start_time": "2021-12-20T17:57:20.118294Z"
    },
    "code_folding": []
   },
   "outputs": [],
   "source": [
    "def results_metric(model):\n",
    "    # Predict for train and test\n",
    "    y_pred_train = model.predict(saved_X_train).flatten()\n",
    "    y_pred_test = model.predict(X_test_copy).flatten()\n",
    "\n",
    "    # MAE metric\n",
    "    mae_train = mean_absolute_error(y_train, y_pred_train)\n",
    "    mae_test = mean_absolute_error(y_test, y_pred_test)\n",
    "\n",
    "    # Plotting results\n",
    "    plt.figure(figsize=(12, 5))\n",
    "    sns.set(color_codes=True)\n",
    "    plt.subplot(1, 2, 1)    \n",
    "    sns.histplot(y_train - y_pred_train, bins=20, kde=True, color='g')\n",
    "    sns.histplot(y_test - y_pred_test, bins=20, kde=True, color='r')\n",
    "    plt.legend(['Train','Test'])\n",
    "    plt.subplot(1, 2, 2)\n",
    "    sns.scatterplot(x=y_test, y=y_pred_test)\n",
    "    sns.set(None)\n",
    "    lims = [\n",
    "        np.min([plt.xlim(), plt.ylim()]),  # min of both axes\n",
    "        np.max([plt.xlim(), plt.ylim()]),  # max of both axes]\n",
    "    ]\n",
    "\n",
    "    plt.plot(lims, lims, 'k-', alpha=0.75, zorder=0)\n",
    "    plt.xlabel('Y Test')\n",
    "    plt.ylabel('Y Pred Test')\n",
    "    print('MAE Train', mae_train)\n",
    "    print('MAE Test', mae_test)"
   ]
  },
  {
   "cell_type": "code",
   "execution_count": 17,
   "metadata": {
    "ExecuteTime": {
     "end_time": "2021-12-20T17:57:46.770799Z",
     "start_time": "2021-12-20T17:57:22.891991Z"
    }
   },
   "outputs": [
    {
     "name": "stderr",
     "output_type": "stream",
     "text": [
      "[Parallel(n_jobs=8)]: Using backend ThreadingBackend with 8 concurrent workers.\n",
      "[Parallel(n_jobs=8)]: Done  34 tasks      | elapsed:    3.9s\n",
      "[Parallel(n_jobs=8)]: Done 100 out of 100 | elapsed:    9.9s finished\n",
      "[Parallel(n_jobs=8)]: Using backend ThreadingBackend with 8 concurrent workers.\n",
      "[Parallel(n_jobs=8)]: Done  34 tasks      | elapsed:    1.2s\n",
      "[Parallel(n_jobs=8)]: Done 100 out of 100 | elapsed:    3.2s finished\n"
     ]
    },
    {
     "name": "stdout",
     "output_type": "stream",
     "text": [
      "MAE Train 47.485106082059644\n",
      "MAE Test 110.97997450125735\n"
     ]
    },
    {
     "data": {
      "image/png": "[encoded data removed]",
      "text/plain": [
       "<Figure size 864x360 with 2 Axes>"
      ]
     },
     "metadata": {
      "needs_background": "light"
     },
     "output_type": "display_data"
    }
   ],
   "source": [
    "results_metric(model)"
   ]
  },
  {
   "cell_type": "markdown",
   "metadata": {},
   "source": [
    "### Training with whole dataset"
   ]
  },
  {
   "cell_type": "code",
   "execution_count": 10,
   "metadata": {
    "ExecuteTime": {
     "end_time": "2021-12-20T17:59:17.219505Z",
     "start_time": "2021-12-20T17:59:03.371486Z"
    }
   },
   "outputs": [
    {
     "name": "stdout",
     "output_type": "stream",
     "text": [
      "[IterativeImputer] Completing matrix with shape (667691, 55)\n",
      "[IterativeImputer] Ending imputation round 1/1, elapsed time 3.61\n"
     ]
    }
   ],
   "source": [
    "X_preprocessed = preprocess_data(X)"
   ]
  },
  {
   "cell_type": "code",
   "execution_count": 11,
   "metadata": {
    "ExecuteTime": {
     "end_time": "2021-12-20T18:06:20.908839Z",
     "start_time": "2021-12-20T17:59:19.603858Z"
    }
   },
   "outputs": [
    {
     "name": "stderr",
     "output_type": "stream",
     "text": [
      "[Parallel(n_jobs=8)]: Using backend ThreadingBackend with 8 concurrent workers.\n",
      "[Parallel(n_jobs=8)]: Done  34 tasks      | elapsed:  2.7min\n"
     ]
    },
    {
     "name": "stdout",
     "output_type": "stream",
     "text": [
      "Wall time: 7min 1s\n"
     ]
    },
    {
     "name": "stderr",
     "output_type": "stream",
     "text": [
      "[Parallel(n_jobs=8)]: Done 100 out of 100 | elapsed:  7.0min finished\n"
     ]
    },
    {
     "data": {
      "text/plain": [
       "RandomForestRegressor(n_jobs=8, random_state=42, verbose=1)"
      ]
     },
     "execution_count": 11,
     "metadata": {},
     "output_type": "execute_result"
    }
   ],
   "source": [
    "%%time\n",
    "model_full = RandomForestRegressor(\n",
    "                              random_state=SEED, \n",
    "                              n_jobs=mp.cpu_count(), \n",
    "                              verbose=1)\n",
    "model_full.fit(X_preprocessed, y)"
   ]
  },
  {
   "cell_type": "code",
   "execution_count": 12,
   "metadata": {
    "ExecuteTime": {
     "end_time": "2021-12-20T18:06:40.556388Z",
     "start_time": "2021-12-20T18:06:25.868737Z"
    }
   },
   "outputs": [
    {
     "name": "stderr",
     "output_type": "stream",
     "text": [
      "[Parallel(n_jobs=8)]: Using backend ThreadingBackend with 8 concurrent workers.\n",
      "[Parallel(n_jobs=8)]: Done  34 tasks      | elapsed:    5.6s\n",
      "[Parallel(n_jobs=8)]: Done 100 out of 100 | elapsed:   13.7s finished\n"
     ]
    }
   ],
   "source": [
    "y_prediction = model_full.predict(X_preprocessed)"
   ]
  },
  {
   "cell_type": "code",
   "execution_count": 13,
   "metadata": {
    "ExecuteTime": {
     "end_time": "2021-12-20T18:06:44.721121Z",
     "start_time": "2021-12-20T18:06:44.598384Z"
    }
   },
   "outputs": [
    {
     "name": "stdout",
     "output_type": "stream",
     "text": [
      "46.21570746396241\n"
     ]
    }
   ],
   "source": [
    "print(mean_absolute_error(y, y_prediction))"
   ]
  },
  {
   "cell_type": "markdown",
   "metadata": {},
   "source": [
    "## Submission"
   ]
  },
  {
   "cell_type": "code",
   "execution_count": 18,
   "metadata": {
    "ExecuteTime": {
     "end_time": "2021-12-20T18:32:37.939482Z",
     "start_time": "2021-12-20T18:32:36.075786Z"
    }
   },
   "outputs": [],
   "source": [
    "test = pd.read_csv('../data/input/test_data.csv')\n",
    "id = test.id\n",
    "mes = test.mes"
   ]
  },
  {
   "cell_type": "markdown",
   "metadata": {},
   "source": [
    "Applying preprocessing pipeline"
   ]
  },
  {
   "cell_type": "code",
   "execution_count": 19,
   "metadata": {
    "ExecuteTime": {
     "end_time": "2021-12-20T18:32:46.002494Z",
     "start_time": "2021-12-20T18:32:40.044927Z"
    }
   },
   "outputs": [
    {
     "name": "stdout",
     "output_type": "stream",
     "text": [
      "[IterativeImputer] Completing matrix with shape (292016, 55)\n",
      "[IterativeImputer] Ending imputation round 1/1, elapsed time 1.52\n"
     ]
    }
   ],
   "source": [
    "test_preprocessed = preprocess_data(test)"
   ]
  },
  {
   "cell_type": "markdown",
   "metadata": {},
   "source": [
    "Predictions"
   ]
  },
  {
   "cell_type": "code",
   "execution_count": 16,
   "metadata": {
    "ExecuteTime": {
     "end_time": "2021-12-20T18:07:27.844476Z",
     "start_time": "2021-12-20T18:07:23.099777Z"
    }
   },
   "outputs": [
    {
     "name": "stderr",
     "output_type": "stream",
     "text": [
      "[Parallel(n_jobs=8)]: Using backend ThreadingBackend with 8 concurrent workers.\n",
      "[Parallel(n_jobs=8)]: Done  34 tasks      | elapsed:    1.7s\n",
      "[Parallel(n_jobs=8)]: Done 100 out of 100 | elapsed:    4.4s finished\n"
     ]
    }
   ],
   "source": [
    "predictions =  model_full.predict(test_preprocessed)"
   ]
  },
  {
   "cell_type": "markdown",
   "metadata": {},
   "source": [
    "Creating submission"
   ]
  },
  {
   "cell_type": "code",
   "execution_count": 20,
   "metadata": {
    "ExecuteTime": {
     "end_time": "2021-12-20T18:33:30.111834Z",
     "start_time": "2021-12-20T18:33:29.227435Z"
    }
   },
   "outputs": [],
   "source": [
    "df_submission = pd.DataFrame({\n",
    "        'id': id,\n",
    "        'mes': mes,\n",
    "        'target_mes': predictions\n",
    "    })\n",
    "\n",
    "df_submission.to_csv('../submission/submission.csv', index=False)"
   ]
  },
  {
   "cell_type": "markdown",
   "metadata": {},
   "source": [
    "## References"
   ]
  },
  {
   "cell_type": "markdown",
   "metadata": {},
   "source": [
    "* https://machinelearningmastery.com/how-to-save-and-load-models-and-data-preparation-in-scikit-learn-for-later-use/"
   ]
  }
 ],
 "metadata": {
  "kernelspec": {
   "display_name": "bci-env",
   "language": "python",
   "name": "bci-env"
  },
  "language_info": {
   "codemirror_mode": {
    "name": "ipython",
    "version": 3
   },
   "file_extension": ".py",
   "mimetype": "text/x-python",
   "name": "python",
   "nbconvert_exporter": "python",
   "pygments_lexer": "ipython3",
   "version": "3.9.7"
  },
  "toc": {
   "base_numbering": 1,
   "nav_menu": {},
   "number_sections": true,
   "sideBar": true,
   "skip_h1_title": false,
   "title_cell": "Table of Contents",
   "title_sidebar": "Contents",
   "toc_cell": false,
   "toc_position": {
    "height": "calc(100% - 180px)",
    "left": "10px",
    "top": "150px",
    "width": "303.825px"
   },
   "toc_section_display": true,
   "toc_window_display": true
  }
 },
 "nbformat": 4,
 "nbformat_minor": 4
}
